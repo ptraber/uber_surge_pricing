{
 "cells": [
  {
   "cell_type": "code",
   "execution_count": 61,
   "metadata": {
    "collapsed": false
   },
   "outputs": [],
   "source": [
    "import numpy as np\n",
    "import scipy as sp\n",
    "import matplotlib as mpl\n",
    "import matplotlib.cm as cm\n",
    "import matplotlib.pyplot as plt\n",
    "import json\n",
    "from flask import Flask\n",
    "from flask.ext.cors import CORS\n",
    "\n",
    "def day_fix(string):\n",
    "    if string == '1':\n",
    "        return \"Monday\"\n",
    "    elif string =='2':\n",
    "        return \"Tuesday\"\n",
    "    elif string =='3':\n",
    "        return \"Wednesday\"\n",
    "    elif string =='4':\n",
    "        return 'Thursday'\n",
    "    elif string == '5':\n",
    "        return 'Friday'\n",
    "    elif string == '6':\n",
    "        return 'Saturday'\n",
    "    elif string == '0':\n",
    "        return 'Sunday'\n",
    "    else:\n",
    "        print \"Error in day_fix!!!!!\"\n",
    "\n",
    "def min_fix(string):\n",
    "    num = int(string)\n",
    "    return str(num - (num%10))\n",
    "\n",
    "def weather_fix(string):\n",
    "    if string == 'Light Rain':\n",
    "        return 'Rain'\n",
    "    elif string == 'Scattered Clouds':\n",
    "        return 'Cloudy'\n",
    "    elif string == 'Mostly Cloudy':\n",
    "        return'Cloudy'\n",
    "    elif string == 'Partly Cloudy':\n",
    "        return'Cloudy'\n",
    "    elif string =='Overcast':\n",
    "        return'Clear'\n",
    "    else:\n",
    "        return string\n",
    "\n",
    "from sklearn.externals import joblib\n",
    "import os\n",
    "os.chdir(\"modelfiles\")\n",
    "rf1 = \"RandomForestClassifier.pkl\".decode('utf-8')\n",
    "rf = joblib.load(\"RandomForestClassifier.pkl\")\n",
    "os.chdir(\"..\")\n",
    "\n",
    "os.chdir(\"xcolumns\")\n",
    "columns = joblib.load('columns.pkl')\n",
    "os.chdir(\"..\")\n"
   ]
  },
  {
   "cell_type": "code",
   "execution_count": 63,
   "metadata": {
    "collapsed": false
   },
   "outputs": [
    {
     "data": {
      "text/plain": [
       "'{\"No Surge\": 1.0, \"High Surge\": 0.0, \"Low Surge\": 0.0, \"Mid Surge\": 0.0}'"
      ]
     },
     "execution_count": 63,
     "metadata": {},
     "output_type": "execute_result"
    }
   ],
   "source": [
    "temp = 'ride=uberX&city=Atlanta&temp=64&day=5&time=14:22&weather=Clear'\n",
    "\n",
    "def predict(string):\n",
    "    string = temp.replace('ride','').replace('=','').replace('city','').replace('temp','').replace('day','').replace('time','').replace('weather','')\n",
    "    cleaning = string.split(\"&\")\n",
    "    cleaning[3] = day_fix(cleaning[3])\n",
    "    time = cleaning[4].split(':')\n",
    "    time[1] = min_fix(time[1])\n",
    "    cleaning[4] = time[0] + ':' + time[1]\n",
    "    temperature = int(cleaning[2])\n",
    "    cleaning[5] = weather_fix(cleaning[5])\n",
    "    del cleaning[2]\n",
    "    \n",
    "    X = [0] * len(columns)\n",
    "    X[14] = temperature\n",
    "    X[11] = 1\n",
    "    #X\n",
    "    for i in cleaning:\n",
    "        for k in range(len(columns)):\n",
    "            if i in columns[k]:\n",
    "                X[k] = 1\n",
    "\n",
    "    if cleaning[0] == 'uberX':\n",
    "        X[5] = 0\n",
    "    \n",
    "    prediction = rf.predict(X)\n",
    "    prediction = rf.predict_proba(X)\n",
    "    return_dict = {}\n",
    "    return_dict['High Surge'] = round(prediction[0][0][1],3)\n",
    "    return_dict['Low Surge'] = round(prediction[1][0][1],3)\n",
    "    return_dict['Mid Surge'] = round(prediction[2][0][1],3)\n",
    "    return_dict['No Surge'] = round(prediction[3][0][1],3)\n",
    "    d = json.dumps(return_dict)\n",
    "    return d\n",
    "\n",
    "    \n",
    "predict(temp)"
   ]
  },
  {
   "cell_type": "code",
   "execution_count": null,
   "metadata": {
    "collapsed": true
   },
   "outputs": [],
   "source": []
  }
 ],
 "metadata": {
  "kernelspec": {
   "display_name": "Python 2",
   "language": "python",
   "name": "python2"
  },
  "language_info": {
   "codemirror_mode": {
    "name": "ipython",
    "version": 2
   },
   "file_extension": ".py",
   "mimetype": "text/x-python",
   "name": "python",
   "nbconvert_exporter": "python",
   "pygments_lexer": "ipython2",
   "version": "2.7.10"
  }
 },
 "nbformat": 4,
 "nbformat_minor": 0
}
