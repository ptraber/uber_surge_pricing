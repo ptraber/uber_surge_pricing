{
 "cells": [
  {
   "cell_type": "markdown",
   "metadata": {},
   "source": [
    "#Uber Surge Pricing\n",
    "\n",
    "Authors: Peter Traber, Dillon Tiner, Abigail Orlando, Summer Carter"
   ]
  },
  {
   "cell_type": "code",
   "execution_count": 119,
   "metadata": {
    "collapsed": true
   },
   "outputs": [],
   "source": [
    "%matplotlib inline\n",
    "import numpy as np\n",
    "import scipy as sp\n",
    "import matplotlib as mpl\n",
    "import matplotlib.cm as cm\n",
    "import matplotlib.pyplot as plt\n",
    "import pandas as pd\n",
    "pd.set_option('display.width', 500)\n",
    "pd.set_option('display.max_columns', 100)\n",
    "pd.set_option('display.notebook_repr_html', True)\n",
    "import seaborn as sns\n",
    "sns.set_style(\"whitegrid\")\n",
    "sns.set_context(\"poster\")\n",
    "import csv\n",
    "import plotly\n",
    "import plotly.plotly as py\n",
    "import plotly.graph_objs as go\n",
    "py.sign_in('traber', 'cemxgoz1su')"
   ]
  },
  {
   "cell_type": "markdown",
   "metadata": {},
   "source": [
    "##Overview and Motivation"
   ]
  },
  {
   "cell_type": "markdown",
   "metadata": {},
   "source": [
    "Uber is a mobile application that provides nearby car-service for users. Through the application, a user can request a car at a specific location and the user is notified how long it will take for the car to arrive. The standard fare is based on time and distance traveled. If the demand for car-service exceeds the supply of available cars, then uber applies a surge price to the fare. The surge can be anywhere from 1.1 - 50.0 times the standard fare.\n",
    "\n",
    "\n",
    "We wanted to explore uber’s concept of surge pricing by conducting an analysis of which factors affect surge pricing the most. This was particularly interesting to us because uber’s API was just recently made public, so there have not been many predictive/analytical projects looking at surge pricing. This gives us a novel opportunity to explore data that affects our daily lives, and to incorporate several of the statistics and computational methodologies that we learned this semester. The data set that we have compiled can also allow us to look at many different variables and their effect on surge pricing. For example, we will look at how temperature and weather affect the surge charge on an uber. Also, should someone call the Uber now, or if they have time wait an hour or two in order to try and find a better price? We all use uber, and love the service; however, we wanted to create a predictive model in order to find the times that we do not have to be charged extra money!"
   ]
  },
  {
   "cell_type": "markdown",
   "metadata": {},
   "source": [
    "## Related Work"
   ]
  },
  {
   "cell_type": "markdown",
   "metadata": {},
   "source": [
    "Lecture 6: Storytelling \n",
    "\n",
    "We read this research paper from the University of Chicago on surge pricings.\n",
    "http://faculty.chicagobooth.edu/chris.nosko/research/effects_of_uber's_surge_pricing.pdf\n",
    "\n",
    "We read this article at the beginning of our project to get an idea of how Uber surge works.\n",
    "https://www.washingtonpost.com/news/wonk/wp/2015/04/17/how-uber-surge-pricing-really-works/\n",
    "\n"
   ]
  },
  {
   "cell_type": "markdown",
   "metadata": {},
   "source": [
    "##Initial Questions"
   ]
  },
  {
   "cell_type": "markdown",
   "metadata": {},
   "source": [
    "Initially the main question we were trying to answer was “Can we predict what uber’s surge pricing is going to be based on an input of relevant conditions?”. As we started to accumulate and explore the data through cleanup we narrowed down the relevant conditions for our analysis to be time, weather conditions, temperature, income, and location.  \n",
    "\n",
    "We used Amazon Web Services DynamoDB to make requests to Uber’s API as well as a weather underground API every 5 minutes with the following code:\n",
    "\n"
   ]
  },
  {
   "cell_type": "code",
   "execution_count": 2,
   "metadata": {
    "collapsed": false
   },
   "outputs": [],
   "source": [
    "\n",
    "# import csv\n",
    "# import datetime\n",
    "# import hashlib\n",
    "# import logging\n",
    "# import requests\n",
    "# import time\n",
    "\n",
    "# from boto.dynamodb2.table import Table\n",
    "# from boto import s3\n",
    "\n",
    "# logging.basicConfig(filename='{:%Y%m%d%H%M}.log'.format(datetime.datetime.now()),\n",
    "#                     format='%(asctime)s %(message)s',\n",
    "#                     level=logging.WARN)\n",
    "# w_url = 'http://api.wunderground.com/api/<your wunderground token here>/conditions/q/{lat},{lon}.json'\n",
    "# u_db = Table('uber')\n",
    "# u_url = 'https://api.uber.com/v1/estimates/price'\n",
    "# u_server_token = <your uber token here>\n",
    "\n",
    "# coordinates = [line for line in csv.DictReader(open('coordinates.csv', 'r'))]\n",
    "\n",
    "# # Start an infinite loop.\n",
    "# while True:\n",
    "    \n",
    "#     for coord in coordinates:\n",
    "#         # Make weather request.\n",
    "#         response = requests.get(w_url.format(**coord))\n",
    "        \n",
    "#         # Log and continue to next iteration if the request is not successful.\n",
    "#         if response.status_code != requests.codes.ok:\n",
    "#             logging.error('Unable to get weather data for {lat}, {lon}'.format(**coord))\n",
    "#             continue\n",
    "            \n",
    "#         weather = response.json()\n",
    "        \n",
    "#         # Prepare Uber request.\n",
    "#         params = {\n",
    "#             'server_token': u_server_token,\n",
    "#             'start_latitude': coord['lat'],\n",
    "#             'start_longitude': coord['lon'],\n",
    "#             'end_latitude': coord['lat'],\n",
    "#             'end_longitude': coord['lon'],\n",
    "#         }\n",
    "        \n",
    "#         # Make Uber request.\n",
    "#         response = requests.get(u_url, params=params)\n",
    "        \n",
    "#         # Log and continue to next iteration if the request is not successful.\n",
    "#         if response.status_code != requests.codes.ok:\n",
    "#             logging.error('Unable to get Uber data for {lat}, {lon}'.format(**coord))\n",
    "#             continue        \n",
    "        \n",
    "#         data = response.json()\n",
    "        \n",
    "#         # Save response time to use as timestamp.\n",
    "#         resp_time = response.headers.get('Date')\n",
    "        \n",
    "#         for product in data['prices']:\n",
    "            \n",
    "#             logging.warn('Adding {} in {} to database.'.format(\n",
    "#                 product['display_name'],\n",
    "#                 weather['current_observation']['display_location']['state']\n",
    "#             ))\n",
    "            \n",
    "#             u_db.put_item(data={\n",
    "#                 # Hash fields to create unique keys.\n",
    "#                 '_id': hashlib.md5(\n",
    "#                     (product['display_name'] +\n",
    "#                      weather['current_observation']['display_location']['full'] +\n",
    "#                      coord['income'] +\n",
    "#                      resp_time).encode()\n",
    "#                     ).hexdigest(),\n",
    "#                 'income': coord['income'],\n",
    "#                 'time': resp_time,\n",
    "#                 'product': product['display_name'],\n",
    "#                 'surge': product['surge_multiplier'],\n",
    "#                 'city': weather['current_observation']['display_location']['city'],\n",
    "#                 'state': weather['current_observation']['display_location']['state'],\n",
    "#                 'weather': weather['current_observation']['weather'],\n",
    "#                 'temp': round(weather['current_observation']['temp_f']) \n",
    "                \n",
    "#             })\n",
    "\n",
    "#     # Sleep for 5 minutes (300 seconds).\n",
    "#     time.sleep(300)\n"
   ]
  },
  {
   "cell_type": "markdown",
   "metadata": {},
   "source": [
    "##Cleaning the Data"
   ]
  },
  {
   "cell_type": "code",
   "execution_count": 53,
   "metadata": {
    "collapsed": false
   },
   "outputs": [
    {
     "data": {
      "text/html": [
       "<div>\n",
       "<table border=\"1\" class=\"dataframe\">\n",
       "  <thead>\n",
       "    <tr style=\"text-align: right;\">\n",
       "      <th></th>\n",
       "      <th>time</th>\n",
       "      <th>city</th>\n",
       "      <th>income</th>\n",
       "      <th>state</th>\n",
       "      <th>product</th>\n",
       "      <th>_id</th>\n",
       "      <th>temp</th>\n",
       "      <th>surge</th>\n",
       "      <th>weather</th>\n",
       "    </tr>\n",
       "  </thead>\n",
       "  <tbody>\n",
       "    <tr>\n",
       "      <th>0</th>\n",
       "      <td>Fri, 20 Nov 2015 22:19:52 GMT</td>\n",
       "      <td>Atlanta</td>\n",
       "      <td>High</td>\n",
       "      <td>GA</td>\n",
       "      <td>UberSUV</td>\n",
       "      <td>b605b0b06730c256bc90499b6c53afaf</td>\n",
       "      <td>62</td>\n",
       "      <td>1</td>\n",
       "      <td>Clear</td>\n",
       "    </tr>\n",
       "    <tr>\n",
       "      <th>1</th>\n",
       "      <td>Sat, 28 Nov 2015 13:39:55 GMT</td>\n",
       "      <td>San Francisco</td>\n",
       "      <td>Low</td>\n",
       "      <td>CA</td>\n",
       "      <td>UberSUV</td>\n",
       "      <td>5ac25b0bb4283ddcd818a07d5e7507d5</td>\n",
       "      <td>47</td>\n",
       "      <td>1</td>\n",
       "      <td>Clear</td>\n",
       "    </tr>\n",
       "    <tr>\n",
       "      <th>2</th>\n",
       "      <td>Thu, 03 Dec 2015 12:26:05 GMT</td>\n",
       "      <td>Washington</td>\n",
       "      <td>Middle</td>\n",
       "      <td>DC</td>\n",
       "      <td>UberBLACK</td>\n",
       "      <td>8c973b036ce2d06c5b26f789a0f5fab5</td>\n",
       "      <td>40</td>\n",
       "      <td>1</td>\n",
       "      <td>Clear</td>\n",
       "    </tr>\n",
       "    <tr>\n",
       "      <th>3</th>\n",
       "      <td>Mon, 30 Nov 2015 03:16:49 GMT</td>\n",
       "      <td>Atlanta</td>\n",
       "      <td>Low</td>\n",
       "      <td>GA</td>\n",
       "      <td>uberXL</td>\n",
       "      <td>a209e7632350d72f82aff073fc406563</td>\n",
       "      <td>69</td>\n",
       "      <td>1</td>\n",
       "      <td>Overcast</td>\n",
       "    </tr>\n",
       "    <tr>\n",
       "      <th>4</th>\n",
       "      <td>Wed, 18 Nov 2015 17:54:37 GMT</td>\n",
       "      <td>Atlanta</td>\n",
       "      <td>Low</td>\n",
       "      <td>GA</td>\n",
       "      <td>UberBLACK</td>\n",
       "      <td>06acbfc4f40ff6cb6ef15a8755945079</td>\n",
       "      <td>66</td>\n",
       "      <td>1</td>\n",
       "      <td>Rain</td>\n",
       "    </tr>\n",
       "  </tbody>\n",
       "</table>\n",
       "</div>"
      ],
      "text/plain": [
       "                            time           city  income state    product                               _id  temp  surge   weather\n",
       "0  Fri, 20 Nov 2015 22:19:52 GMT        Atlanta    High    GA    UberSUV  b605b0b06730c256bc90499b6c53afaf    62      1     Clear\n",
       "1  Sat, 28 Nov 2015 13:39:55 GMT  San Francisco     Low    CA    UberSUV  5ac25b0bb4283ddcd818a07d5e7507d5    47      1     Clear\n",
       "2  Thu, 03 Dec 2015 12:26:05 GMT     Washington  Middle    DC  UberBLACK  8c973b036ce2d06c5b26f789a0f5fab5    40      1     Clear\n",
       "3  Mon, 30 Nov 2015 03:16:49 GMT        Atlanta     Low    GA     uberXL  a209e7632350d72f82aff073fc406563    69      1  Overcast\n",
       "4  Wed, 18 Nov 2015 17:54:37 GMT        Atlanta     Low    GA  UberBLACK  06acbfc4f40ff6cb6ef15a8755945079    66      1      Rain"
      ]
     },
     "execution_count": 53,
     "metadata": {},
     "output_type": "execute_result"
    }
   ],
   "source": [
    "#Importing the data to ipython notebook\n",
    "uber_data = pd.read_csv('output3.csv')\n",
    "df=pd.read_csv(\"output3.csv\")\n",
    "# Convert the Surge to decimal values\n",
    "uber_data['surge'] = uber_data['surge']/10.0\n",
    "uber_data.head()"
   ]
  },
  {
   "cell_type": "code",
   "execution_count": 54,
   "metadata": {
    "collapsed": false
   },
   "outputs": [
    {
     "data": {
      "text/html": [
       "<div>\n",
       "<table border=\"1\" class=\"dataframe\">\n",
       "  <thead>\n",
       "    <tr style=\"text-align: right;\">\n",
       "      <th></th>\n",
       "      <th>temp</th>\n",
       "      <th>surge</th>\n",
       "    </tr>\n",
       "  </thead>\n",
       "  <tbody>\n",
       "    <tr>\n",
       "      <th>count</th>\n",
       "      <td>282398.000000</td>\n",
       "      <td>282398.000000</td>\n",
       "    </tr>\n",
       "    <tr>\n",
       "      <th>mean</th>\n",
       "      <td>49.619179</td>\n",
       "      <td>1.024198</td>\n",
       "    </tr>\n",
       "    <tr>\n",
       "      <th>std</th>\n",
       "      <td>8.314591</td>\n",
       "      <td>0.146514</td>\n",
       "    </tr>\n",
       "    <tr>\n",
       "      <th>min</th>\n",
       "      <td>21.000000</td>\n",
       "      <td>1.000000</td>\n",
       "    </tr>\n",
       "    <tr>\n",
       "      <th>25%</th>\n",
       "      <td>44.000000</td>\n",
       "      <td>1.000000</td>\n",
       "    </tr>\n",
       "    <tr>\n",
       "      <th>50%</th>\n",
       "      <td>49.000000</td>\n",
       "      <td>1.000000</td>\n",
       "    </tr>\n",
       "    <tr>\n",
       "      <th>75%</th>\n",
       "      <td>55.000000</td>\n",
       "      <td>1.000000</td>\n",
       "    </tr>\n",
       "    <tr>\n",
       "      <th>max</th>\n",
       "      <td>76.000000</td>\n",
       "      <td>4.900000</td>\n",
       "    </tr>\n",
       "  </tbody>\n",
       "</table>\n",
       "</div>"
      ],
      "text/plain": [
       "                temp          surge\n",
       "count  282398.000000  282398.000000\n",
       "mean       49.619179       1.024198\n",
       "std         8.314591       0.146514\n",
       "min        21.000000       1.000000\n",
       "25%        44.000000       1.000000\n",
       "50%        49.000000       1.000000\n",
       "75%        55.000000       1.000000\n",
       "max        76.000000       4.900000"
      ]
     },
     "execution_count": 54,
     "metadata": {},
     "output_type": "execute_result"
    }
   ],
   "source": [
    "uber_data.describe()"
   ]
  },
  {
   "cell_type": "code",
   "execution_count": 55,
   "metadata": {
    "collapsed": false
   },
   "outputs": [
    {
     "data": {
      "text/plain": [
       "1.024198117550413"
      ]
     },
     "execution_count": 55,
     "metadata": {},
     "output_type": "execute_result"
    }
   ],
   "source": [
    "uber_surge_mean = uber_data['surge'].mean()\n",
    "uber_surge_mean"
   ]
  },
  {
   "cell_type": "code",
   "execution_count": 56,
   "metadata": {
    "collapsed": true
   },
   "outputs": [],
   "source": [
    "# Function to put full name of Day\n",
    "def day_fix(string):\n",
    "    if string == 'Mon':\n",
    "        return \"Monday\"\n",
    "    elif string =='Tue':\n",
    "        return \"Tuesday\"\n",
    "    elif string =='Wed':\n",
    "        return \"Wednesday\"\n",
    "    elif string =='Thu':\n",
    "        return 'Thursday'\n",
    "    elif string == 'Fri':\n",
    "        return 'Friday'\n",
    "    elif string == 'Sat':\n",
    "        return 'Saturday'\n",
    "    elif string == 'Sun':\n",
    "        return 'Sunday'\n",
    "    else:\n",
    "        print \"Error in day_fix!!!!!\"\n",
    "        \n",
    "# Function to round everything **Down** to the nearest 10 minutes\n",
    "def min_fix(string):\n",
    "    num = int(string)\n",
    "    return str(num - (num%10))\n",
    "\n",
    "# Check and replace the surge\n",
    "def surge_check(surge):\n",
    "    surge = surge * 10\n",
    "    if surge == 10:\n",
    "        return \"No Surge\"\n",
    "    elif surge > 15:\n",
    "        return \"High Surge\"\n",
    "    elif surge == 15:\n",
    "        return \"Mid Surge\"\n",
    "    else:\n",
    "        return \"Low Surge\""
   ]
  },
  {
   "cell_type": "code",
   "execution_count": 57,
   "metadata": {
    "collapsed": false
   },
   "outputs": [
    {
     "name": "stdout",
     "output_type": "stream",
     "text": [
      "Percentage of data that has surge 0.038\n",
      "Percentage of Surge that has Low Surge 0.333\n",
      "Percentage of Surge that has High Surge 0.342\n",
      "Percentage of Surge that has Mid Surge 0.325\n"
     ]
    }
   ],
   "source": [
    "# Code to test No Surge vs Low Surge vs. High Surge\n",
    "\n",
    "count_nosurge = df['surge'] == 10\n",
    "count_surge = df['surge'] != 10\n",
    "surgedf = df[count_surge]\n",
    "\n",
    "count_highsurge = df['surge'] > 15\n",
    "count_lowsurge = surgedf['surge'] < 15\n",
    "count_midsurge = surgedf['surge'] == 15\n",
    "\n",
    "print 'Percentage of data that has surge %0.3f' % (float(sum(count_surge))/len(df))\n",
    "print 'Percentage of Surge that has Low Surge %0.3f' % (float(sum(count_lowsurge))/sum(count_surge))\n",
    "print 'Percentage of Surge that has High Surge %0.3f' % ((float(sum(count_highsurge))/sum(count_surge)))\n",
    "print 'Percentage of Surge that has Mid Surge %0.3f' % (float(sum(count_midsurge))/sum(count_surge))"
   ]
  },
  {
   "cell_type": "markdown",
   "metadata": {},
   "source": [
    "After messing with the data, found that only a small percentage of the data has a Surge (only 3.8%). After digging deeper into the surge prices and messing around with different combinations I set the limits at **Low Surge < 1.5x**, **Mid Surge = 1.5x**, and **High Surge > 1.5x**. I thought that is a fair cut off as well because you are spending 50% more on the ride at 1.5x surge.\n",
    "\n",
    "The first function is just to correct the days from their shortened version into full length versions (e.g. \"Mon\" -> \"Monday\")"
   ]
  },
  {
   "cell_type": "code",
   "execution_count": 58,
   "metadata": {
    "collapsed": false
   },
   "outputs": [],
   "source": [
    "#Code to clean cartype\n",
    "for index in uber_data.index:\n",
    "    if uber_data.loc[index,'product'] == 'uberX + Car Seat':\n",
    "        uber_data.loc[index,'product'] = 'uberX'\n",
    "    elif uber_data.loc[index,'product'] == 'SUV + Car Seat':\n",
    "        uber_data.loc[index,'product'] = 'UberSUV'\n",
    "    elif uber_data.loc[index,'product'] == 'BLACK CAR + Car Seat':\n",
    "        uber_data.loc[index,'product'] = 'UberBlack'\n",
    "    elif uber_data.loc[index,'product'] == 'UberSELECT':\n",
    "        uber_data.loc[index,'product'] = 'uberSELECT'\n",
    "    elif uber_data.loc[index,'product'] == 'uberT':\n",
    "        uber_data.loc[index,'product'] = 'uberTAXI'\n",
    "    elif uber_data.loc[index,'product'] == 'UberBLACK':\n",
    "        uber_data.loc[index,'product'] = 'UberBlack'"
   ]
  },
  {
   "cell_type": "code",
   "execution_count": 59,
   "metadata": {
    "collapsed": false
   },
   "outputs": [],
   "source": [
    "# Cleaning the Weather Column\n",
    "for row in range(len(uber_data)):\n",
    "    if uber_data.loc[row,'weather'] == 'Light Rain':\n",
    "        uber_data.loc[row,'weather'] = 'Rain'\n",
    "    elif uber_data.loc[row,'weather'] == 'Scattered Clouds':\n",
    "        uber_data.loc[row,'weather'] = 'Cloudy'\n",
    "    elif uber_data.loc[row,'weather'] == 'Mostly Cloudy':\n",
    "        uber_data.loc[row,'weather'] = 'Cloudy'\n",
    "    elif uber_data.loc[row,'weather'] == 'Partly Cloudy':\n",
    "        uber_data.loc[row,'weather'] = 'Cloudy'\n",
    "    elif uber_data.loc[row,'weather'] == 'Overcast':\n",
    "        uber_data.loc[row,'weather'] = 'Clear'"
   ]
  },
  {
   "cell_type": "code",
   "execution_count": 60,
   "metadata": {
    "collapsed": false
   },
   "outputs": [],
   "source": [
    "# Remove the extra rows from the dataframe\n",
    "remove = ['uberWAV', 'WAV', 'uberFAMILY', 'ASSIST', 'Yellow WAV', '(RED)']\n",
    "remove_mask = [i not in remove for i in uber_data['product']]\n",
    "uber_data =uber_data[remove_mask]\n",
    "uber_data.reset_index(inplace=True, drop = True)"
   ]
  },
  {
   "cell_type": "code",
   "execution_count": 61,
   "metadata": {
    "collapsed": false
   },
   "outputs": [],
   "source": [
    "# Code to extract Weekdays and time of day from given dataframe\n",
    "time_list = [uber_data.time[index].split(' ') for index in uber_data.index]\n",
    "weekday_list = []\n",
    "hour_list = []\n",
    "for row in range(len(time_list)):\n",
    "    \n",
    "    #Cleaning the time column from the queried data set\n",
    "    time_list[row].remove('GMT')\n",
    "    time_list[row][0] = time_list[row][0].replace(',','')\n",
    "    time_list[row][0] = day_fix(time_list[row][0])\n",
    "    hour = int(time_list[row][4][0:2])\n",
    "    \n",
    "    # fix the time change\n",
    "    if uber_data.loc[row,'city'] == 'San Francisco':\n",
    "        hour = hour - 8\n",
    "    else: \n",
    "        hour = hour - 5\n",
    "    if hour < 0 :\n",
    "        hour = 24 + hour\n",
    "    \n",
    "    # Append the Weekday to a list to be put into the dataframe\n",
    "    weekday_list.append(time_list[row][0])\n",
    "    \n",
    "    # call the min_fix function above and create the hours in 10 minute intervals\n",
    "    hour_list.append( str(hour) + ':' + min_fix(time_list[row][4][3:5]) )"
   ]
  },
  {
   "cell_type": "code",
   "execution_count": 62,
   "metadata": {
    "collapsed": false
   },
   "outputs": [],
   "source": [
    "#Code to convert Temp to ints\n",
    "temperature_list = [int(uber_data.temp[index]) for index in uber_data.index]"
   ]
  },
  {
   "cell_type": "code",
   "execution_count": 63,
   "metadata": {
    "collapsed": false
   },
   "outputs": [],
   "source": [
    "surge_list = [surge_check(uber_data.surge[index]) for index in uber_data.index]"
   ]
  },
  {
   "cell_type": "code",
   "execution_count": 64,
   "metadata": {
    "collapsed": false
   },
   "outputs": [
    {
     "data": {
      "text/html": [
       "<div>\n",
       "<table border=\"1\" class=\"dataframe\">\n",
       "  <thead>\n",
       "    <tr style=\"text-align: right;\">\n",
       "      <th></th>\n",
       "      <th>cartype</th>\n",
       "      <th>city</th>\n",
       "      <th>id</th>\n",
       "      <th>income</th>\n",
       "      <th>surge</th>\n",
       "      <th>temperature</th>\n",
       "      <th>time</th>\n",
       "      <th>weather</th>\n",
       "      <th>weekday</th>\n",
       "    </tr>\n",
       "  </thead>\n",
       "  <tbody>\n",
       "    <tr>\n",
       "      <th>0</th>\n",
       "      <td>UberSUV</td>\n",
       "      <td>Atlanta</td>\n",
       "      <td>b605b0b06730c256bc90499b6c53afaf</td>\n",
       "      <td>High</td>\n",
       "      <td>No Surge</td>\n",
       "      <td>62</td>\n",
       "      <td>17:10</td>\n",
       "      <td>Clear</td>\n",
       "      <td>Friday</td>\n",
       "    </tr>\n",
       "    <tr>\n",
       "      <th>1</th>\n",
       "      <td>UberSUV</td>\n",
       "      <td>San Francisco</td>\n",
       "      <td>5ac25b0bb4283ddcd818a07d5e7507d5</td>\n",
       "      <td>Low</td>\n",
       "      <td>No Surge</td>\n",
       "      <td>47</td>\n",
       "      <td>5:30</td>\n",
       "      <td>Clear</td>\n",
       "      <td>Saturday</td>\n",
       "    </tr>\n",
       "    <tr>\n",
       "      <th>2</th>\n",
       "      <td>UberBlack</td>\n",
       "      <td>Washington</td>\n",
       "      <td>8c973b036ce2d06c5b26f789a0f5fab5</td>\n",
       "      <td>Middle</td>\n",
       "      <td>No Surge</td>\n",
       "      <td>40</td>\n",
       "      <td>7:20</td>\n",
       "      <td>Clear</td>\n",
       "      <td>Thursday</td>\n",
       "    </tr>\n",
       "    <tr>\n",
       "      <th>3</th>\n",
       "      <td>uberXL</td>\n",
       "      <td>Atlanta</td>\n",
       "      <td>a209e7632350d72f82aff073fc406563</td>\n",
       "      <td>Low</td>\n",
       "      <td>No Surge</td>\n",
       "      <td>69</td>\n",
       "      <td>22:10</td>\n",
       "      <td>Clear</td>\n",
       "      <td>Monday</td>\n",
       "    </tr>\n",
       "    <tr>\n",
       "      <th>4</th>\n",
       "      <td>UberBlack</td>\n",
       "      <td>Atlanta</td>\n",
       "      <td>06acbfc4f40ff6cb6ef15a8755945079</td>\n",
       "      <td>Low</td>\n",
       "      <td>No Surge</td>\n",
       "      <td>66</td>\n",
       "      <td>12:50</td>\n",
       "      <td>Rain</td>\n",
       "      <td>Wednesday</td>\n",
       "    </tr>\n",
       "  </tbody>\n",
       "</table>\n",
       "</div>"
      ],
      "text/plain": [
       "     cartype           city                                id  income     surge  temperature   time weather    weekday\n",
       "0    UberSUV        Atlanta  b605b0b06730c256bc90499b6c53afaf    High  No Surge           62  17:10   Clear     Friday\n",
       "1    UberSUV  San Francisco  5ac25b0bb4283ddcd818a07d5e7507d5     Low  No Surge           47   5:30   Clear   Saturday\n",
       "2  UberBlack     Washington  8c973b036ce2d06c5b26f789a0f5fab5  Middle  No Surge           40   7:20   Clear   Thursday\n",
       "3     uberXL        Atlanta  a209e7632350d72f82aff073fc406563     Low  No Surge           69  22:10   Clear     Monday\n",
       "4  UberBlack        Atlanta  06acbfc4f40ff6cb6ef15a8755945079     Low  No Surge           66  12:50    Rain  Wednesday"
      ]
     },
     "execution_count": 64,
     "metadata": {},
     "output_type": "execute_result"
    }
   ],
   "source": [
    "# Create Final Dataframe for exploratory analysis\n",
    "dict_final = {}\n",
    "dict_final = {'id': uber_data._id , 'surge':uber_data['surge'], 'temperature': temperature_list, 'weather': uber_data.weather,\n",
    "             'cartype': uber_data['product'], 'city': uber_data.city, 'income': uber_data.income, 'weekday': weekday_list, \n",
    "              'time': hour_list}\n",
    "df_finale = pd.DataFrame(dict_final)\n",
    "df_finale.reset_index(inplace=True, drop = True)\n",
    "df_finale.head()\n",
    "\n",
    "# Create Final Dataframe for Model Building\n",
    "dict_final = {}\n",
    "dict_final = {'id': uber_data._id , 'surge':surge_list, 'temperature': temperature_list, 'weather': uber_data.weather,\n",
    "             'cartype': uber_data['product'], 'city': uber_data.city, 'income': uber_data.income, 'weekday': weekday_list, \n",
    "              'time': hour_list}\n",
    "df_final = pd.DataFrame(dict_final)\n",
    "df_final.reset_index(inplace=True, drop = True)\n",
    "df_final.head()"
   ]
  },
  {
   "cell_type": "markdown",
   "metadata": {},
   "source": [
    "## Exploratory Data Analysis"
   ]
  },
  {
   "cell_type": "markdown",
   "metadata": {},
   "source": [
    "**Note on the Graphs:** The graphs in the Exploratory Data Analysis were created in using the plotly add on. These do not show on ipython notebooks that are uploaded to github. The graphs are interactive when run in ipython notebook. Running the code to the end of this section takes about 30 minutes. An interactive version of some of these graphs are included on the website.\n",
    "\n",
    "In order to run the plotly code, you have to install plotly. In terminal, run:\n",
    "\n",
    "`pip install plotly`"
   ]
  },
  {
   "cell_type": "markdown",
   "metadata": {},
   "source": [
    "###Day of Week's Effect on Surge"
   ]
  },
  {
   "cell_type": "code",
   "execution_count": 65,
   "metadata": {
    "collapsed": false
   },
   "outputs": [
    {
     "data": {
      "text/html": [
       "<div>\n",
       "<table border=\"1\" class=\"dataframe\">\n",
       "  <thead>\n",
       "    <tr style=\"text-align: right;\">\n",
       "      <th></th>\n",
       "      <th>weekday</th>\n",
       "      <th>surge</th>\n",
       "      <th>temperature</th>\n",
       "      <th>count</th>\n",
       "    </tr>\n",
       "  </thead>\n",
       "  <tbody>\n",
       "    <tr>\n",
       "      <th>4</th>\n",
       "      <td>Thursday</td>\n",
       "      <td>1.027199</td>\n",
       "      <td>50.394940</td>\n",
       "      <td>50157</td>\n",
       "    </tr>\n",
       "    <tr>\n",
       "      <th>5</th>\n",
       "      <td>Tuesday</td>\n",
       "      <td>1.025331</td>\n",
       "      <td>48.440430</td>\n",
       "      <td>34321</td>\n",
       "    </tr>\n",
       "    <tr>\n",
       "      <th>0</th>\n",
       "      <td>Friday</td>\n",
       "      <td>1.025260</td>\n",
       "      <td>50.810765</td>\n",
       "      <td>40669</td>\n",
       "    </tr>\n",
       "    <tr>\n",
       "      <th>6</th>\n",
       "      <td>Wednesday</td>\n",
       "      <td>1.022903</td>\n",
       "      <td>49.511193</td>\n",
       "      <td>61869</td>\n",
       "    </tr>\n",
       "    <tr>\n",
       "      <th>1</th>\n",
       "      <td>Monday</td>\n",
       "      <td>1.019212</td>\n",
       "      <td>45.580509</td>\n",
       "      <td>24339</td>\n",
       "    </tr>\n",
       "    <tr>\n",
       "      <th>2</th>\n",
       "      <td>Saturday</td>\n",
       "      <td>1.016350</td>\n",
       "      <td>53.140547</td>\n",
       "      <td>17688</td>\n",
       "    </tr>\n",
       "    <tr>\n",
       "      <th>3</th>\n",
       "      <td>Sunday</td>\n",
       "      <td>1.009939</td>\n",
       "      <td>48.357962</td>\n",
       "      <td>18583</td>\n",
       "    </tr>\n",
       "  </tbody>\n",
       "</table>\n",
       "</div>"
      ],
      "text/plain": [
       "     weekday     surge  temperature  count\n",
       "4   Thursday  1.027199    50.394940  50157\n",
       "5    Tuesday  1.025331    48.440430  34321\n",
       "0     Friday  1.025260    50.810765  40669\n",
       "6  Wednesday  1.022903    49.511193  61869\n",
       "1     Monday  1.019212    45.580509  24339\n",
       "2   Saturday  1.016350    53.140547  17688\n",
       "3     Sunday  1.009939    48.357962  18583"
      ]
     },
     "execution_count": 65,
     "metadata": {},
     "output_type": "execute_result"
    }
   ],
   "source": [
    "# Group by day of the week\n",
    "weekday_mean = df_finale.groupby('weekday').mean().reset_index()\n",
    "weekday_mean['count'] = df_finale.groupby('weekday').surge.count().tolist()\n",
    "weekday_mean = weekday_mean.sort(['surge'], ascending = False)\n",
    "weekday_mean"
   ]
  },
  {
   "cell_type": "code",
   "execution_count": 66,
   "metadata": {
    "collapsed": false
   },
   "outputs": [
    {
     "data": {
      "text/plain": [
       "{'Friday': 1.0252600260640792,\n",
       " 'Monday': 1.0192119643370736,\n",
       " 'Saturday': 1.0163500678426041,\n",
       " 'Sunday': 1.0099391917343818,\n",
       " 'Thursday': 1.0271985964072832,\n",
       " 'Tuesday': 1.0253314297368976,\n",
       " 'Wednesday': 1.0229032310203825}"
      ]
     },
     "execution_count": 66,
     "metadata": {},
     "output_type": "execute_result"
    }
   ],
   "source": [
    "weekday_mean_dict = dict(zip(weekday_mean.weekday, weekday_mean.surge))\n",
    "weekday_mean_dict"
   ]
  },
  {
   "cell_type": "code",
   "execution_count": 67,
   "metadata": {
    "collapsed": false
   },
   "outputs": [
    {
     "data": {
      "text/html": [
       "<iframe id=\"igraph\" scrolling=\"no\" style=\"border:none;\"seamless=\"seamless\" src=\"https://plot.ly/~dillontiner/6.embed\" height=\"525px\" width=\"100%\"></iframe>"
      ],
      "text/plain": [
       "<plotly.tools.PlotlyDisplay object>"
      ]
     },
     "execution_count": 67,
     "metadata": {},
     "output_type": "execute_result"
    }
   ],
   "source": [
    "a = [uber_surge_mean]*7\n",
    "\n",
    "trace = go.Scatter(\n",
    "    x=weekday_mean['weekday'],\n",
    "    y=weekday_mean['surge'],\n",
    "    mode = 'markers',\n",
    "    marker=dict(\n",
    "        symbol='circle',\n",
    "        size=weekday_mean['count']*.0005,\n",
    "    ),\n",
    "    name = 'Week Day Surge Mean'\n",
    ")\n",
    "\n",
    "trace1 = go.Scatter(\n",
    "    x=weekday_mean['weekday'],\n",
    "    y=a,\n",
    "    mode = 'lines',\n",
    "    name = 'Overall Surge Mean')\n",
    "\n",
    "data = [trace, trace1]\n",
    "layout = go.Layout(\n",
    "    title='Effect of Week Day on Surge',\n",
    "    xaxis=dict(title='Week Day'),\n",
    "    yaxis=dict(title='Surge'))\n",
    "\n",
    "\n",
    "fig = go.Figure(data=data, layout=layout)\n",
    "py.iplot(fig, filename='Weekday_on_surge')"
   ]
  },
  {
   "cell_type": "markdown",
   "metadata": {},
   "source": [
    "The radius of the points reflects the count of data per day of the week. Thursday's surge of ~1.027 and Friday's surge of ~1.025 are slightly above the average surge of ~1.024. This is could be explained by the fact that Thursday and Friday are the beginning of the weekend and people are going out at night more and/or traveling. Saturday's surge of ~1.016 and Sunday's surge of ~1.001 are more below average than Thursday and Friday are above average possibly due to the fact that people are using other modes of transportation on the weekends or the fact that there are more uber drivers available because many drivers are part-time drivers."
   ]
  },
  {
   "cell_type": "markdown",
   "metadata": {},
   "source": [
    "###Weather's effect on surge:"
   ]
  },
  {
   "cell_type": "code",
   "execution_count": 68,
   "metadata": {
    "collapsed": false
   },
   "outputs": [
    {
     "data": {
      "text/html": [
       "<div>\n",
       "<table border=\"1\" class=\"dataframe\">\n",
       "  <thead>\n",
       "    <tr style=\"text-align: right;\">\n",
       "      <th></th>\n",
       "      <th>weather</th>\n",
       "      <th>temp</th>\n",
       "      <th>surge</th>\n",
       "      <th>count</th>\n",
       "    </tr>\n",
       "  </thead>\n",
       "  <tbody>\n",
       "    <tr>\n",
       "      <th>3</th>\n",
       "      <td>Rain</td>\n",
       "      <td>49.433927</td>\n",
       "      <td>1.026414</td>\n",
       "      <td>19766</td>\n",
       "    </tr>\n",
       "    <tr>\n",
       "      <th>1</th>\n",
       "      <td>Cloudy</td>\n",
       "      <td>49.987423</td>\n",
       "      <td>1.023480</td>\n",
       "      <td>77999</td>\n",
       "    </tr>\n",
       "    <tr>\n",
       "      <th>0</th>\n",
       "      <td>Clear</td>\n",
       "      <td>49.365861</td>\n",
       "      <td>1.021931</td>\n",
       "      <td>145823</td>\n",
       "    </tr>\n",
       "    <tr>\n",
       "      <th>2</th>\n",
       "      <td>Fog</td>\n",
       "      <td>47.802377</td>\n",
       "      <td>1.016790</td>\n",
       "      <td>4038</td>\n",
       "    </tr>\n",
       "  </tbody>\n",
       "</table>\n",
       "</div>"
      ],
      "text/plain": [
       "  weather       temp     surge   count\n",
       "3    Rain  49.433927  1.026414   19766\n",
       "1  Cloudy  49.987423  1.023480   77999\n",
       "0   Clear  49.365861  1.021931  145823\n",
       "2     Fog  47.802377  1.016790    4038"
      ]
     },
     "execution_count": 68,
     "metadata": {},
     "output_type": "execute_result"
    }
   ],
   "source": [
    "weather_mean = uber_data.groupby('weather').mean().reset_index()\n",
    "weather_mean['count'] = uber_data.groupby('weather').surge.count().tolist()\n",
    "weather_mean = weather_mean.sort(['surge'], ascending = False)\n",
    "weather_mean"
   ]
  },
  {
   "cell_type": "code",
   "execution_count": 69,
   "metadata": {
    "collapsed": false
   },
   "outputs": [
    {
     "data": {
      "text/plain": [
       "{'Clear': 1.0219313825665315,\n",
       " 'Cloudy': 1.0234797882024103,\n",
       " 'Fog': 1.0167904903417531,\n",
       " 'Rain': 1.0264140443185275}"
      ]
     },
     "execution_count": 69,
     "metadata": {},
     "output_type": "execute_result"
    }
   ],
   "source": [
    "weather_mean_dict = dict(zip(weather_mean.weather, weather_mean.surge))\n",
    "weather_mean_dict"
   ]
  },
  {
   "cell_type": "code",
   "execution_count": 70,
   "metadata": {
    "collapsed": false
   },
   "outputs": [],
   "source": [
    "weather_helper = []\n",
    "for i in (weather_mean['count']):\n",
    "    x = np.sqrt(i)\n",
    "    weather_helper.append(x)\n",
    "    \n",
    "\n",
    "weather_sqrt_count = pd.DataFrame(weather_helper, columns =['sqrt_count'] )"
   ]
  },
  {
   "cell_type": "code",
   "execution_count": 71,
   "metadata": {
    "collapsed": false
   },
   "outputs": [
    {
     "data": {
      "text/html": [
       "<iframe id=\"igraph\" scrolling=\"no\" style=\"border:none;\"seamless=\"seamless\" src=\"https://plot.ly/~dillontiner/8.embed\" height=\"525px\" width=\"100%\"></iframe>"
      ],
      "text/plain": [
       "<plotly.tools.PlotlyDisplay object>"
      ]
     },
     "execution_count": 71,
     "metadata": {},
     "output_type": "execute_result"
    }
   ],
   "source": [
    "a = [uber_surge_mean]*7\n",
    "\n",
    "trace = go.Scatter(\n",
    "    x=weather_mean['weather'],\n",
    "    y=weather_mean['surge'],\n",
    "    mode = 'markers',\n",
    "    marker=dict(\n",
    "        symbol='circle',\n",
    "        size=(weather_sqrt_count['sqrt_count'])*.2,\n",
    "    ),\n",
    "    name = 'Weather Type Surge Mean'\n",
    ")\n",
    "\n",
    "trace1 = go.Scatter(\n",
    "    x=weather_mean['weather'],\n",
    "    y=a,\n",
    "    mode = 'lines',\n",
    "    name = 'Overall Surge Mean')\n",
    "\n",
    "data = [trace, trace1]\n",
    "layout = go.Layout(\n",
    "    title='Effect of Weather on Surge',\n",
    "    xaxis=dict(title='Weather'),\n",
    "    yaxis=dict(title='Surge'))\n",
    "\n",
    "\n",
    "fig = go.Figure(data=data, layout=layout)\n",
    "py.iplot(fig, filename='Weather_on_surge')"
   ]
  },
  {
   "cell_type": "markdown",
   "metadata": {},
   "source": [
    "The radius of the points reflects the count of data points per weather condition. We applied a square root transformation to the counts to help with the visualization. From the radius of the points we can tell that very few data points had foggy and rainy weather. Most of the weather from the past few weeks was clear. Rain has the highest surge value of ~1.026 which is slightly above the average surge value of ~1.024. This is not surprising because when it rains more people will be requesting Ubers to get out of the weather. Cloudy, clear, and fog have below average surge values."
   ]
  },
  {
   "cell_type": "markdown",
   "metadata": {},
   "source": [
    "###Temperature's effect on surge"
   ]
  },
  {
   "cell_type": "code",
   "execution_count": 72,
   "metadata": {
    "collapsed": false
   },
   "outputs": [],
   "source": [
    "temp_mean = uber_data.groupby('temp').mean().reset_index()\n",
    "temp_mean['count'] = uber_data.groupby('temp').surge.count().tolist()\n",
    "temp_mean = temp_mean.sort(['surge'], ascending = False)\n",
    "temp_mean.head()\n",
    "temp_mean_dict = dict(zip(temp_mean.temp, temp_mean.surge))"
   ]
  },
  {
   "cell_type": "code",
   "execution_count": 73,
   "metadata": {
    "collapsed": false
   },
   "outputs": [],
   "source": [
    "temp_helper = []\n",
    "for i in (temp_mean['count']):\n",
    "    x = np.sqrt(i)\n",
    "    temp_helper.append(x)"
   ]
  },
  {
   "cell_type": "code",
   "execution_count": 74,
   "metadata": {
    "collapsed": false
   },
   "outputs": [],
   "source": [
    "temp_sqrt_count = pd.DataFrame(temp_helper, columns =['sqrt_count'] )"
   ]
  },
  {
   "cell_type": "code",
   "execution_count": 75,
   "metadata": {
    "collapsed": false
   },
   "outputs": [
    {
     "data": {
      "text/html": [
       "<iframe id=\"igraph\" scrolling=\"no\" style=\"border:none;\"seamless=\"seamless\" src=\"https://plot.ly/~dillontiner/10.embed\" height=\"525px\" width=\"100%\"></iframe>"
      ],
      "text/plain": [
       "<plotly.tools.PlotlyDisplay object>"
      ]
     },
     "execution_count": 75,
     "metadata": {},
     "output_type": "execute_result"
    }
   ],
   "source": [
    "a = [uber_surge_mean]*7\n",
    "\n",
    "trace = go.Scatter(\n",
    "    x=temp_mean['temp'],\n",
    "    y=temp_mean['surge'],\n",
    "    mode = 'markers',\n",
    "    marker=dict(\n",
    "        symbol='circle',\n",
    "        size=temp_sqrt_count['sqrt_count']*(.2))\n",
    ")\n",
    "\n",
    "trace1 = go.Scatter(\n",
    "    x=temp_mean['temp'],\n",
    "    y=a,\n",
    "    mode = 'lines',\n",
    "    name = 'Overall Surge Mean')\n",
    "\n",
    "data = [trace,trace1]\n",
    "layout = go.Layout(\n",
    "    title='Effect of Temperature on Surge',\n",
    "    xaxis=dict(title='Temperature'),\n",
    "    yaxis=dict(title='Mean Surge'))\n",
    "\n",
    "\n",
    "fig = go.Figure(data=data, layout=layout)\n",
    "py.iplot(fig, filename='Temp_on_surge')"
   ]
  },
  {
   "cell_type": "markdown",
   "metadata": {},
   "source": [
    "The radius of the points reflects the count of data points per temperature condition. We applied a square root transformation to the counts to help with the visualization. There are fewer data points from the coldest and warmest temperatures. The surge price appears to rise for the coldest (25-40 degrees) and warmest (73-76 degrees) temperatures. This is probably because users are less likely to walk, bike or skateboard outdoors when it is really cold or really hot."
   ]
  },
  {
   "cell_type": "markdown",
   "metadata": {},
   "source": [
    "###Car Type's effect on surge"
   ]
  },
  {
   "cell_type": "code",
   "execution_count": 76,
   "metadata": {
    "collapsed": false
   },
   "outputs": [
    {
     "data": {
      "text/html": [
       "<div>\n",
       "<table border=\"1\" class=\"dataframe\">\n",
       "  <thead>\n",
       "    <tr style=\"text-align: right;\">\n",
       "      <th></th>\n",
       "      <th>product</th>\n",
       "      <th>surge</th>\n",
       "      <th>count</th>\n",
       "    </tr>\n",
       "  </thead>\n",
       "  <tbody>\n",
       "    <tr>\n",
       "      <th>4</th>\n",
       "      <td>uberX</td>\n",
       "      <td>1.061015</td>\n",
       "      <td>51238</td>\n",
       "    </tr>\n",
       "    <tr>\n",
       "      <th>5</th>\n",
       "      <td>uberXL</td>\n",
       "      <td>1.023235</td>\n",
       "      <td>51237</td>\n",
       "    </tr>\n",
       "    <tr>\n",
       "      <th>2</th>\n",
       "      <td>uberSELECT</td>\n",
       "      <td>1.015537</td>\n",
       "      <td>17062</td>\n",
       "    </tr>\n",
       "    <tr>\n",
       "      <th>1</th>\n",
       "      <td>UberSUV</td>\n",
       "      <td>1.013455</td>\n",
       "      <td>34162</td>\n",
       "    </tr>\n",
       "    <tr>\n",
       "      <th>0</th>\n",
       "      <td>UberBlack</td>\n",
       "      <td>1.010672</td>\n",
       "      <td>51237</td>\n",
       "    </tr>\n",
       "    <tr>\n",
       "      <th>3</th>\n",
       "      <td>uberTAXI</td>\n",
       "      <td>1.000000</td>\n",
       "      <td>42690</td>\n",
       "    </tr>\n",
       "  </tbody>\n",
       "</table>\n",
       "</div>"
      ],
      "text/plain": [
       "      product     surge  count\n",
       "4       uberX  1.061015  51238\n",
       "5      uberXL  1.023235  51237\n",
       "2  uberSELECT  1.015537  17062\n",
       "1     UberSUV  1.013455  34162\n",
       "0   UberBlack  1.010672  51237\n",
       "3    uberTAXI  1.000000  42690"
      ]
     },
     "execution_count": 76,
     "metadata": {},
     "output_type": "execute_result"
    }
   ],
   "source": [
    "car_mean = uber_data.groupby('product').mean().reset_index()\n",
    "car_mean = car_mean.drop('temp', 1).sort(['surge'], ascending = False) \n",
    "car_mean['count'] = uber_data.groupby('product').surge.count().tolist()\n",
    "car_mean_dict = car_mean.set_index('product').surge.to_dict()\n",
    "car_mean"
   ]
  },
  {
   "cell_type": "code",
   "execution_count": 77,
   "metadata": {
    "collapsed": false
   },
   "outputs": [],
   "source": [
    "product_helper = []\n",
    "for i in (car_mean['count']):\n",
    "    x = np.sqrt(i)\n",
    "    product_helper.append(x)\n",
    "product_sqrt_count = pd.DataFrame(product_helper, columns =['sqrt_count'] ) "
   ]
  },
  {
   "cell_type": "code",
   "execution_count": 78,
   "metadata": {
    "collapsed": false
   },
   "outputs": [
    {
     "data": {
      "text/html": [
       "<iframe id=\"igraph\" scrolling=\"no\" style=\"border:none;\"seamless=\"seamless\" src=\"https://plot.ly/~dillontiner/12.embed\" height=\"525px\" width=\"100%\"></iframe>"
      ],
      "text/plain": [
       "<plotly.tools.PlotlyDisplay object>"
      ]
     },
     "execution_count": 78,
     "metadata": {},
     "output_type": "execute_result"
    }
   ],
   "source": [
    "a = [uber_surge_mean]*7\n",
    "\n",
    "trace = go.Scatter(\n",
    "    x=car_mean['product'],\n",
    "    y=car_mean['surge'],\n",
    "    mode = 'markers',\n",
    "    marker=dict(\n",
    "        symbol='circle',\n",
    "        size=product_sqrt_count['sqrt_count']*(.2))\n",
    ")\n",
    "\n",
    "\n",
    "trace1 = go.Scatter(\n",
    "    x=car_mean['product'],\n",
    "    y=a,\n",
    "    mode = 'lines',\n",
    "    name = 'Overall Surge Mean')\n",
    "\n",
    "data = [trace,trace1]\n",
    "layout = go.Layout(\n",
    "    title='Effect of Car Type on Surge',\n",
    "    xaxis=dict(title='Car Type'),\n",
    "    yaxis=dict(title='Mean Surge'))\n",
    "\n",
    "\n",
    "fig = go.Figure(data=data, layout=layout)\n",
    "py.iplot(fig, filename='Car_on_surge')\n",
    "\n"
   ]
  },
  {
   "cell_type": "markdown",
   "metadata": {},
   "source": [
    "The radius of the points reflects the count of data points per car type. We applied a square root transformation to the counts to help with the visualization. UberX has the highest mean surge. It makes sense that UberX has the highest surge, because it is the most in demand due to its cheap flat rate. UberTaxi has the lowest mean surge, 1.0. It is likely that this car type doesn't have surge functionality."
   ]
  },
  {
   "cell_type": "markdown",
   "metadata": {},
   "source": [
    "###Socioeconomic effect on surge"
   ]
  },
  {
   "cell_type": "code",
   "execution_count": 79,
   "metadata": {
    "collapsed": false
   },
   "outputs": [
    {
     "data": {
      "text/html": [
       "<div>\n",
       "<table border=\"1\" class=\"dataframe\">\n",
       "  <thead>\n",
       "    <tr style=\"text-align: right;\">\n",
       "      <th></th>\n",
       "      <th>income</th>\n",
       "      <th>surge</th>\n",
       "      <th>count</th>\n",
       "    </tr>\n",
       "  </thead>\n",
       "  <tbody>\n",
       "    <tr>\n",
       "      <th>0</th>\n",
       "      <td>High</td>\n",
       "      <td>1.027200</td>\n",
       "      <td>82541</td>\n",
       "    </tr>\n",
       "    <tr>\n",
       "      <th>2</th>\n",
       "      <td>Middle</td>\n",
       "      <td>1.021941</td>\n",
       "      <td>82545</td>\n",
       "    </tr>\n",
       "    <tr>\n",
       "      <th>1</th>\n",
       "      <td>Low</td>\n",
       "      <td>1.018939</td>\n",
       "      <td>82540</td>\n",
       "    </tr>\n",
       "  </tbody>\n",
       "</table>\n",
       "</div>"
      ],
      "text/plain": [
       "   income     surge  count\n",
       "0    High  1.027200  82541\n",
       "2  Middle  1.021941  82545\n",
       "1     Low  1.018939  82540"
      ]
     },
     "execution_count": 79,
     "metadata": {},
     "output_type": "execute_result"
    }
   ],
   "source": [
    "income_mean = uber_data.groupby('income').mean().reset_index()\n",
    "income_mean = income_mean.drop('temp', 1).sort(['surge'], ascending = False) \n",
    "income_mean['count'] = uber_data.groupby('income').surge.count().tolist()\n",
    "income_mean_dict = income_mean.set_index('income').surge.to_dict()\n",
    "income_mean\n",
    "\n"
   ]
  },
  {
   "cell_type": "code",
   "execution_count": 80,
   "metadata": {
    "collapsed": false
   },
   "outputs": [],
   "source": [
    "income_helper = []\n",
    "for i in (income_mean['count']):\n",
    "    x = np.sqrt(i)\n",
    "    income_helper.append(x)\n",
    "income_sqrt_count = pd.DataFrame(income_helper, columns =['sqrt_count'] ) "
   ]
  },
  {
   "cell_type": "code",
   "execution_count": 81,
   "metadata": {
    "collapsed": false,
    "scrolled": false
   },
   "outputs": [
    {
     "data": {
      "text/html": [
       "<iframe id=\"igraph\" scrolling=\"no\" style=\"border:none;\"seamless=\"seamless\" src=\"https://plot.ly/~dillontiner/14.embed\" height=\"525px\" width=\"100%\"></iframe>"
      ],
      "text/plain": [
       "<plotly.tools.PlotlyDisplay object>"
      ]
     },
     "execution_count": 81,
     "metadata": {},
     "output_type": "execute_result"
    }
   ],
   "source": [
    "a = [uber_surge_mean]*7\n",
    "\n",
    "trace = go.Scatter(\n",
    "    x=income_mean['income'],\n",
    "    y=income_mean['surge'],\n",
    "    mode = 'markers',\n",
    "    marker=dict(\n",
    "        symbol='circle',\n",
    "        size=income_sqrt_count['sqrt_count']*(.2))\n",
    ")\n",
    "\n",
    "trace1 = go.Scatter(\n",
    "    x=income_mean['income'],\n",
    "    y=a,\n",
    "    mode = 'lines',\n",
    "    name = 'Overall Surge Mean')\n",
    "\n",
    "data = [trace,trace1]\n",
    "layout = go.Layout(\n",
    "    title='Effect of Income on Surge',\n",
    "    xaxis=dict(title='Income'),\n",
    "    yaxis=dict(title='Mean Surge'))\n",
    "\n",
    "\n",
    "fig = go.Figure(data=data, layout=layout)\n",
    "py.iplot(fig, filename='Income_on_surge')\n",
    "\n",
    "\n"
   ]
  },
  {
   "cell_type": "markdown",
   "metadata": {},
   "source": [
    "The radius of the points reflects the count of data points per income condition. We applied a square root transformation to the counts to help with the visualization. Since the size of the radii appear to be about the same size, we know that there are about the same amount of Uber rides in each neighborhood. High Income neighborhoods have the highest mean surge, followed by middle income and lastly low income. This is likely due to the tendency of users to live in high income areas. Uber is a luxury service, especially in big cities where public transportation is available. Also it requires the use of a smartphone, which high income users are more likely to own. Since there is more demand in high-income neighborhoods, then there is a higher average surge."
   ]
  },
  {
   "cell_type": "markdown",
   "metadata": {},
   "source": [
    "###City's effect on surge"
   ]
  },
  {
   "cell_type": "code",
   "execution_count": 82,
   "metadata": {
    "collapsed": false
   },
   "outputs": [
    {
     "data": {
      "text/html": [
       "<div>\n",
       "<table border=\"1\" class=\"dataframe\">\n",
       "  <thead>\n",
       "    <tr style=\"text-align: right;\">\n",
       "      <th></th>\n",
       "      <th>city</th>\n",
       "      <th>surge</th>\n",
       "      <th>count</th>\n",
       "    </tr>\n",
       "  </thead>\n",
       "  <tbody>\n",
       "    <tr>\n",
       "      <th>1</th>\n",
       "      <td>Boston</td>\n",
       "      <td>1.040150</td>\n",
       "      <td>42633</td>\n",
       "    </tr>\n",
       "    <tr>\n",
       "      <th>4</th>\n",
       "      <td>Washington</td>\n",
       "      <td>1.035978</td>\n",
       "      <td>42794</td>\n",
       "    </tr>\n",
       "    <tr>\n",
       "      <th>3</th>\n",
       "      <td>San Francisco</td>\n",
       "      <td>1.012890</td>\n",
       "      <td>42668</td>\n",
       "    </tr>\n",
       "    <tr>\n",
       "      <th>0</th>\n",
       "      <td>Atlanta</td>\n",
       "      <td>1.012026</td>\n",
       "      <td>51179</td>\n",
       "    </tr>\n",
       "    <tr>\n",
       "      <th>2</th>\n",
       "      <td>New York</td>\n",
       "      <td>1.006319</td>\n",
       "      <td>68352</td>\n",
       "    </tr>\n",
       "  </tbody>\n",
       "</table>\n",
       "</div>"
      ],
      "text/plain": [
       "            city     surge  count\n",
       "1         Boston  1.040150  42633\n",
       "4     Washington  1.035978  42794\n",
       "3  San Francisco  1.012890  42668\n",
       "0        Atlanta  1.012026  51179\n",
       "2       New York  1.006319  68352"
      ]
     },
     "execution_count": 82,
     "metadata": {},
     "output_type": "execute_result"
    }
   ],
   "source": [
    "city_mean = uber_data.groupby('city').mean().reset_index()\n",
    "city_mean = city_mean.drop('temp', 1).sort(['surge'], ascending = False)\n",
    "city_mean['count'] = uber_data.groupby('city').surge.count().tolist()\n",
    "city_mean_dict = city_mean.set_index('city').surge.to_dict()\n",
    "city_mean\n"
   ]
  },
  {
   "cell_type": "code",
   "execution_count": 83,
   "metadata": {
    "collapsed": false
   },
   "outputs": [],
   "source": [
    "city_helper = []\n",
    "for i in (city_mean['count']):\n",
    "    x = np.sqrt(i)\n",
    "    city_helper.append(x)\n",
    "city_sqrt_count = pd.DataFrame(city_helper, columns =['sqrt_count'] ) "
   ]
  },
  {
   "cell_type": "code",
   "execution_count": 84,
   "metadata": {
    "collapsed": false
   },
   "outputs": [
    {
     "data": {
      "text/html": [
       "<iframe id=\"igraph\" scrolling=\"no\" style=\"border:none;\"seamless=\"seamless\" src=\"https://plot.ly/~dillontiner/16.embed\" height=\"525px\" width=\"100%\"></iframe>"
      ],
      "text/plain": [
       "<plotly.tools.PlotlyDisplay object>"
      ]
     },
     "execution_count": 84,
     "metadata": {},
     "output_type": "execute_result"
    }
   ],
   "source": [
    "a = [uber_surge_mean]*7\n",
    "\n",
    "trace = go.Scatter(\n",
    "    x=city_mean['city'],\n",
    "    y=city_mean['surge'],\n",
    "    mode = 'markers',\n",
    "    marker=dict(\n",
    "        symbol='circle',\n",
    "        size=city_sqrt_count['sqrt_count']*(.2))\n",
    ")\n",
    "\n",
    "trace1 = go.Scatter(\n",
    "    x=city_mean['city'],\n",
    "    y=a,\n",
    "    mode = 'lines',\n",
    "    name = 'Overall Surge Mean')\n",
    "\n",
    "data = [trace,trace1]\n",
    "layout = go.Layout(\n",
    "    title='Effect of City on Surge',\n",
    "    xaxis=dict(title='City'),\n",
    "    yaxis=dict(title='Mean Surge'))\n",
    "\n",
    "\n",
    "fig = go.Figure(data=data, layout=layout)\n",
    "py.iplot(fig, filename='city_on_surge')\n",
    "\n",
    "\n",
    "\n"
   ]
  },
  {
   "cell_type": "markdown",
   "metadata": {},
   "source": [
    "The radius of the points reflects the count of data points per city. We applied a square root transformation to the counts to help with the visualization. The radii are about the same for each city, indicating that Uber is used at the same rate in each of our chosen cities. Boston has the highest mean surge, indicating that there is a smaller driver to user ratio in Boston than in the other cities. New York likely has the smallest mean surge because there are so many drivers and so many competeing services like NYC taxis."
   ]
  },
  {
   "cell_type": "markdown",
   "metadata": {},
   "source": [
    "###Time's effect on surge"
   ]
  },
  {
   "cell_type": "code",
   "execution_count": 85,
   "metadata": {
    "collapsed": false
   },
   "outputs": [
    {
     "data": {
      "text/html": [
       "<div>\n",
       "<table border=\"1\" class=\"dataframe\">\n",
       "  <thead>\n",
       "    <tr style=\"text-align: right;\">\n",
       "      <th></th>\n",
       "      <th>hour</th>\n",
       "      <th>surge</th>\n",
       "    </tr>\n",
       "  </thead>\n",
       "  <tbody>\n",
       "    <tr>\n",
       "      <th>23</th>\n",
       "      <td>23</td>\n",
       "      <td>1.055438</td>\n",
       "    </tr>\n",
       "    <tr>\n",
       "      <th>22</th>\n",
       "      <td>22</td>\n",
       "      <td>1.054511</td>\n",
       "    </tr>\n",
       "    <tr>\n",
       "      <th>13</th>\n",
       "      <td>13</td>\n",
       "      <td>1.045654</td>\n",
       "    </tr>\n",
       "    <tr>\n",
       "      <th>7</th>\n",
       "      <td>07</td>\n",
       "      <td>1.037212</td>\n",
       "    </tr>\n",
       "    <tr>\n",
       "      <th>5</th>\n",
       "      <td>05</td>\n",
       "      <td>1.032407</td>\n",
       "    </tr>\n",
       "  </tbody>\n",
       "</table>\n",
       "</div>"
      ],
      "text/plain": [
       "   hour     surge\n",
       "23   23  1.055438\n",
       "22   22  1.054511\n",
       "13   13  1.045654\n",
       "7    07  1.037212\n",
       "5    05  1.032407"
      ]
     },
     "execution_count": 85,
     "metadata": {},
     "output_type": "execute_result"
    }
   ],
   "source": [
    "uber_test = uber_data.copy()\n",
    "uber_test['time'] = [i.split(' ') for i in uber_test['time']]\n",
    "uber_test['time'] = [i[4] for i in uber_test['time']]\n",
    "\n",
    "#Add hour column\n",
    "uber_test['hour'] = [i[:2] for i in uber_test['time']]\n",
    "\n",
    "#Effect of Time on Surge BEFORE ADJUSTING FOR GMT\n",
    "hour_mean = uber_test.groupby('hour').mean().reset_index()\n",
    "hour_mean = hour_mean.drop('temp', 1).sort(['surge'], ascending = False)\n",
    "hour_mean.head()"
   ]
  },
  {
   "cell_type": "markdown",
   "metadata": {},
   "source": [
    "####NYC surge hour (-5 GMT)"
   ]
  },
  {
   "cell_type": "code",
   "execution_count": 86,
   "metadata": {
    "collapsed": false
   },
   "outputs": [
    {
     "name": "stderr",
     "output_type": "stream",
     "text": [
      "C:\\Users\\ptrab_000\\Anaconda\\lib\\site-packages\\IPython\\kernel\\__main__.py:2: SettingWithCopyWarning:\n",
      "\n",
      "\n",
      "A value is trying to be set on a copy of a slice from a DataFrame.\n",
      "Try using .loc[row_indexer,col_indexer] = value instead\n",
      "\n",
      "See the the caveats in the documentation: http://pandas.pydata.org/pandas-docs/stable/indexing.html#indexing-view-versus-copy\n",
      "\n"
     ]
    },
    {
     "data": {
      "text/html": [
       "<div>\n",
       "<table border=\"1\" class=\"dataframe\">\n",
       "  <thead>\n",
       "    <tr style=\"text-align: right;\">\n",
       "      <th></th>\n",
       "      <th>hour</th>\n",
       "      <th>surge</th>\n",
       "    </tr>\n",
       "  </thead>\n",
       "  <tbody>\n",
       "    <tr>\n",
       "      <th>17</th>\n",
       "      <td>17</td>\n",
       "      <td>1.019583</td>\n",
       "    </tr>\n",
       "    <tr>\n",
       "      <th>4</th>\n",
       "      <td>4</td>\n",
       "      <td>1.016241</td>\n",
       "    </tr>\n",
       "    <tr>\n",
       "      <th>18</th>\n",
       "      <td>18</td>\n",
       "      <td>1.013722</td>\n",
       "    </tr>\n",
       "    <tr>\n",
       "      <th>5</th>\n",
       "      <td>5</td>\n",
       "      <td>1.010547</td>\n",
       "    </tr>\n",
       "    <tr>\n",
       "      <th>6</th>\n",
       "      <td>6</td>\n",
       "      <td>1.010515</td>\n",
       "    </tr>\n",
       "  </tbody>\n",
       "</table>\n",
       "</div>"
      ],
      "text/plain": [
       "    hour     surge\n",
       "17    17  1.019583\n",
       "4      4  1.016241\n",
       "18    18  1.013722\n",
       "5      5  1.010547\n",
       "6      6  1.010515"
      ]
     },
     "execution_count": 86,
     "metadata": {},
     "output_type": "execute_result"
    }
   ],
   "source": [
    "nyc = uber_test[uber_test['city'] == 'New York']\n",
    "nyc['hour'] = [(int(i) - 5) if int(i) > 4 else (int(i) - 5 + 24) for i in nyc['hour']]\n",
    "nyc_hour_mean = nyc.groupby('hour').mean().reset_index()\n",
    "nyc_hour_mean = nyc_hour_mean.drop('temp', 1).sort(['surge'], ascending = False)\n",
    "nyc_hour_mean.head()"
   ]
  },
  {
   "cell_type": "code",
   "execution_count": 87,
   "metadata": {
    "collapsed": false
   },
   "outputs": [
    {
     "data": {
      "text/html": [
       "<iframe id=\"igraph\" scrolling=\"no\" style=\"border:none;\"seamless=\"seamless\" src=\"https://plot.ly/~dillontiner/4.embed\" height=\"525px\" width=\"100%\"></iframe>"
      ],
      "text/plain": [
       "<plotly.tools.PlotlyDisplay object>"
      ]
     },
     "execution_count": 87,
     "metadata": {},
     "output_type": "execute_result"
    }
   ],
   "source": [
    "a = [uber_surge_mean]*7\n",
    "\n",
    "trace = go.Scatter(\n",
    "    x = (nyc_hour_mean['hour']),\n",
    "    y = (nyc_hour_mean['surge']),\n",
    "    mode = 'markers')\n",
    "\n",
    "trace1 = go.Scatter(\n",
    "    x=nyc_hour_mean['hour'],\n",
    "    y=a,\n",
    "    mode = 'lines',\n",
    "    name = 'Overall Surge Mean')\n",
    "\n",
    "data = [trace,trace1]\n",
    "\n",
    "layout = go.Layout(\n",
    "    title='NYC: Effect of Time on Surge',\n",
    "    xaxis=dict(title='Time of Day'),\n",
    "    yaxis=dict(title='Surge'))\n",
    "\n",
    "fig = go.Figure(data=data, layout=layout)\n",
    "py.iplot(fig, filename='time-surge')\n"
   ]
  },
  {
   "cell_type": "markdown",
   "metadata": {},
   "source": [
    "In NYC, the highest mean surge is at 5 PM followed 4 AM and then 6 PM. Since rush hour is from 5-7 PM, it makes sense that there is a surge at these times because there is a greater demand. The lowest surge is at 9 AM and 8 PM which also makes sense becasue these are the hours right after high surges. Due to the surge, more Uber drivers become active, but the the demand decreases after rush hour and there is more supply than demand."
   ]
  },
  {
   "cell_type": "markdown",
   "metadata": {},
   "source": [
    "####ATL surge hour (-5 GMT)"
   ]
  },
  {
   "cell_type": "code",
   "execution_count": 88,
   "metadata": {
    "collapsed": false
   },
   "outputs": [
    {
     "name": "stderr",
     "output_type": "stream",
     "text": [
      "C:\\Users\\ptrab_000\\Anaconda\\lib\\site-packages\\IPython\\kernel\\__main__.py:2: SettingWithCopyWarning:\n",
      "\n",
      "\n",
      "A value is trying to be set on a copy of a slice from a DataFrame.\n",
      "Try using .loc[row_indexer,col_indexer] = value instead\n",
      "\n",
      "See the the caveats in the documentation: http://pandas.pydata.org/pandas-docs/stable/indexing.html#indexing-view-versus-copy\n",
      "\n"
     ]
    },
    {
     "data": {
      "text/html": [
       "<div>\n",
       "<table border=\"1\" class=\"dataframe\">\n",
       "  <thead>\n",
       "    <tr style=\"text-align: right;\">\n",
       "      <th></th>\n",
       "      <th>hour</th>\n",
       "      <th>surge</th>\n",
       "    </tr>\n",
       "  </thead>\n",
       "  <tbody>\n",
       "    <tr>\n",
       "      <th>18</th>\n",
       "      <td>18</td>\n",
       "      <td>1.086943</td>\n",
       "    </tr>\n",
       "    <tr>\n",
       "      <th>17</th>\n",
       "      <td>17</td>\n",
       "      <td>1.046714</td>\n",
       "    </tr>\n",
       "    <tr>\n",
       "      <th>2</th>\n",
       "      <td>2</td>\n",
       "      <td>1.020306</td>\n",
       "    </tr>\n",
       "    <tr>\n",
       "      <th>3</th>\n",
       "      <td>3</td>\n",
       "      <td>1.019746</td>\n",
       "    </tr>\n",
       "    <tr>\n",
       "      <th>6</th>\n",
       "      <td>6</td>\n",
       "      <td>1.016990</td>\n",
       "    </tr>\n",
       "  </tbody>\n",
       "</table>\n",
       "</div>"
      ],
      "text/plain": [
       "    hour     surge\n",
       "18    18  1.086943\n",
       "17    17  1.046714\n",
       "2      2  1.020306\n",
       "3      3  1.019746\n",
       "6      6  1.016990"
      ]
     },
     "execution_count": 88,
     "metadata": {},
     "output_type": "execute_result"
    }
   ],
   "source": [
    "atl = uber_test[uber_test['city'] == 'Atlanta']\n",
    "atl['hour'] = [(int(i) - 5) if int(i) > 4 else (int(i) - 5 + 24) for i in atl['hour']]\n",
    "atl_hour_mean = atl.groupby('hour').mean().reset_index()\n",
    "atl_hour_mean = atl_hour_mean.drop('temp', 1).sort(['surge'], ascending = False)\n",
    "atl_hour_mean.head()"
   ]
  },
  {
   "cell_type": "code",
   "execution_count": 120,
   "metadata": {
    "collapsed": false
   },
   "outputs": [
    {
     "data": {
      "text/html": [
       "<iframe id=\"igraph\" scrolling=\"no\" style=\"border:none;\"seamless=\"seamless\" src=\"https://plot.ly/~traber/13.embed\" height=\"525px\" width=\"100%\"></iframe>"
      ],
      "text/plain": [
       "<plotly.tools.PlotlyDisplay object>"
      ]
     },
     "execution_count": 120,
     "metadata": {},
     "output_type": "execute_result"
    }
   ],
   "source": [
    "a = [uber_surge_mean]*7\n",
    "\n",
    "trace = go.Scatter(\n",
    "    x = (atl_hour_mean['hour']),\n",
    "    y = (atl_hour_mean['surge']),\n",
    "    mode = 'markers')\n",
    "\n",
    "trace1 = go.Scatter(\n",
    "    x=atl_hour_mean['hour'],\n",
    "    y=a,\n",
    "    mode = 'lines',\n",
    "    name = 'Overall Surge Mean')\n",
    "\n",
    "data = [trace,trace1]\n",
    "\n",
    "layout = go.Layout(\n",
    "    title='ATL: Effect of Time on Surge',\n",
    "    xaxis=dict(title='Time of Day'),\n",
    "    yaxis=dict(title='Surge'))\n",
    "\n",
    "fig = go.Figure(data=data, layout=layout)\n",
    "py.iplot(fig, filename='time-surge')"
   ]
  },
  {
   "cell_type": "markdown",
   "metadata": {},
   "source": [
    "There is about no surge all day in Atlanta with the exception of 5 and 6 PM. This surge is likely due to rush hour."
   ]
  },
  {
   "cell_type": "markdown",
   "metadata": {},
   "source": [
    "####SF surge hour (-8 GMT)"
   ]
  },
  {
   "cell_type": "code",
   "execution_count": null,
   "metadata": {
    "collapsed": false
   },
   "outputs": [],
   "source": [
    "sf = uber_test[uber_test['city'] == 'San Francisco']\n",
    "sf['hour'] = [(int(i) - 5) if int(i) > 4 else (int(i) - 5 + 24) for i in sf['hour']]\n",
    "sf_hour_mean = sf.groupby('hour').mean().reset_index()\n",
    "sf_hour_mean = sf_hour_mean.drop('temp', 1).sort(['surge'], ascending = False)\n",
    "sf_hour_mean.head()"
   ]
  },
  {
   "cell_type": "code",
   "execution_count": null,
   "metadata": {
    "collapsed": false
   },
   "outputs": [],
   "source": [
    "\n",
    "a = [uber_surge_mean]*7\n",
    "trace = go.Scatter(\n",
    "    x = (sf_hour_mean['hour']),\n",
    "    y = (sf_hour_mean['surge']),\n",
    "    mode = 'markers')\n",
    "\n",
    "trace1 = go.Scatter(\n",
    "    x=sf_hour_mean['hour'],\n",
    "    y=a,\n",
    "    mode = 'lines',\n",
    "    name = 'Overall Surge Mean')\n",
    "\n",
    "\n",
    "\n",
    "data = [trace, trace1]\n",
    "\n",
    "layout = go.Layout(\n",
    "    title='SF: Effect of Time on Surge',\n",
    "    xaxis=dict(title='Time of Day'),\n",
    "    yaxis=dict(title='Surge'))\n",
    "\n",
    "fig = go.Figure(data=data, layout=layout)\n",
    "py.iplot(fig, filename='time-surge')"
   ]
  },
  {
   "cell_type": "markdown",
   "metadata": {},
   "source": [
    "In SF, the highest mean surge is at 11 AM. The time from 5 AM to 10 AM the average surge is slightly above 1.0. After noon, there is about no surge. The best explanation for the surge in the morning is that there is a high demand for Ubers on the way to work. "
   ]
  },
  {
   "cell_type": "markdown",
   "metadata": {},
   "source": [
    "####BOS surge time (-5 GMT)"
   ]
  },
  {
   "cell_type": "code",
   "execution_count": null,
   "metadata": {
    "collapsed": false
   },
   "outputs": [],
   "source": [
    "bos = uber_test[uber_test['city'] == 'Boston']\n",
    "bos['hour'] = [(int(i) - 5) if int(i) > 4 else (int(i) - 5 + 24) for i in bos['hour']]\n",
    "bos_hour_mean = bos.groupby('hour').mean().reset_index()\n",
    "bos_hour_mean = bos_hour_mean.drop('temp', 1).sort(['surge'], ascending = False)\n",
    "bos_hour_mean.head()"
   ]
  },
  {
   "cell_type": "code",
   "execution_count": null,
   "metadata": {
    "collapsed": false
   },
   "outputs": [],
   "source": [
    "\n",
    "a = [uber_surge_mean]*7\n",
    "trace = go.Scatter(\n",
    "    x = (bos_hour_mean['hour']),\n",
    "    y = (bos_hour_mean['surge']),\n",
    "    mode = 'markers')\n",
    "\n",
    "trace1 = go.Scatter(\n",
    "    x=bos_hour_mean['hour'],\n",
    "    y=a,\n",
    "    mode = 'lines',\n",
    "    name = 'Overall Surge Mean')\n",
    "\n",
    "\n",
    "\n",
    "data = [trace,trace1]\n",
    "\n",
    "layout = go.Layout(\n",
    "    title='BOS: Effect of Time on Surge',\n",
    "    xaxis=dict(title='Time of Day'),\n",
    "    yaxis=dict(title='Surge'))\n",
    "\n",
    "fig = go.Figure(data=data, layout=layout)\n",
    "py.iplot(fig, filename='time-surge')"
   ]
  },
  {
   "cell_type": "markdown",
   "metadata": {},
   "source": [
    "The highest average surge in Boston is at 1 AM, 8 AM, and 5 PM. The latter two are likely do to rush hour for work. The surge at 1 AM is likely because there is a high demand for transportation after midnight, because the public transportation begins to close for the night. The lowest average surge in Boston is around noon and past 8 PM-- this makes sense becasue demand for ubers is low at these points of the day."
   ]
  },
  {
   "cell_type": "markdown",
   "metadata": {},
   "source": [
    "####WASH surge time (-5 GMT)"
   ]
  },
  {
   "cell_type": "code",
   "execution_count": null,
   "metadata": {
    "collapsed": false
   },
   "outputs": [],
   "source": [
    "wash = uber_test[uber_test['city'] == 'Washington']\n",
    "wash['hour'] = [(int(i) - 5) if int(i) > 4 else (int(i) - 5 + 24) for i in wash['hour']]\n",
    "wash_hour_mean = wash.groupby('hour').mean().reset_index()\n",
    "wash_hour_mean = wash_hour_mean.drop('temp', 1).sort(['surge'], ascending = False)\n",
    "wash_hour_mean.head()"
   ]
  },
  {
   "cell_type": "code",
   "execution_count": null,
   "metadata": {
    "collapsed": false
   },
   "outputs": [],
   "source": [
    "a = [uber_surge_mean]*7\n",
    "trace = go.Scatter(\n",
    "    x = (wash_hour_mean['hour']),\n",
    "    y = (wash_hour_mean['surge']),\n",
    "    mode = 'markers')\n",
    "\n",
    "trace1 = go.Scatter(\n",
    "    x=wash_hour_mean['hour'],\n",
    "    y=a,\n",
    "    mode = 'lines',\n",
    "    name = 'Overall Surge Mean')\n",
    "\n",
    "\n",
    "\n",
    "data = [trace,trace1]\n",
    "\n",
    "layout = go.Layout(\n",
    "    title='WASH: Effect of Time on Surge',\n",
    "    xaxis=dict(title='Time of Day'),\n",
    "    yaxis=dict(title='Surge'))\n",
    "\n",
    "fig = go.Figure(data=data, layout=layout)\n",
    "py.iplot(fig, filename='time-surge')"
   ]
  },
  {
   "cell_type": "markdown",
   "metadata": {},
   "source": [
    "The highest average surge in Washington is at 5 and 6 PM, and 8 AM. This is likely because of rush hour at these times. The lowest average surge is around noon and after 8 PM, which makes sense because demand for transportation at this time is low."
   ]
  },
  {
   "cell_type": "markdown",
   "metadata": {},
   "source": [
    "####Combine data from all cities --- ADJUSTED for GMT"
   ]
  },
  {
   "cell_type": "code",
   "execution_count": null,
   "metadata": {
    "collapsed": false
   },
   "outputs": [],
   "source": [
    "concat_city_surge = pd.concat([wash_hour_mean, bos_hour_mean,atl_hour_mean, sf_hour_mean, nyc_hour_mean], axis=1)\n",
    "temp = concat_city_surge[[\"surge\", \"surge\", \"surge\", \"surge\", \"surge\" ]].mean(axis=1)\n",
    "holder = []\n",
    "for i in range(24):\n",
    "    holder.append(i)\n",
    "\n",
    "holder = pd.DataFrame(holder, columns=['hour'])\n",
    "city_surge = pd.concat([holder, temp], axis=1)\n",
    "city_surge = pd.concat([holder, temp], axis=1)\n",
    "city_surge.columns = ['hour', 'surge']\n"
   ]
  },
  {
   "cell_type": "code",
   "execution_count": null,
   "metadata": {
    "collapsed": false
   },
   "outputs": [],
   "source": [
    "a = [uber_surge_mean]*7\n",
    "trace = go.Scatter(\n",
    "    x = (city_surge['hour']),\n",
    "    y = (city_surge['surge']),\n",
    "    mode = 'markers')\n",
    "\n",
    "trace1 = go.Scatter(\n",
    "    x=city_surge['hour'],\n",
    "    y=a,\n",
    "    mode = 'lines',\n",
    "    name = 'Overall Surge Mean')\n",
    "\n",
    "data = [trace,trace1]\n",
    "\n",
    "layout = go.Layout(\n",
    "    title='Effect of Time on Surge',\n",
    "    xaxis=dict(title='Time of Day'),\n",
    "    yaxis=dict(title='Surge'))\n",
    "\n",
    "fig = go.Figure(data=data, layout=layout)\n",
    "py.iplot(fig, filename='time-surge')"
   ]
  },
  {
   "cell_type": "markdown",
   "metadata": {},
   "source": [
    "Overall, the highest average surge is at 5 and 6 PM, followed by 8 AM. Since these are rush hour times, it makes sense that there would be high demand for Ubers at these times, and not enough supply. The lowest average surge occurs at 10 AM and 8 PM, which also makes sense because there is generally a low demand for transportation at these times of the day."
   ]
  },
  {
   "cell_type": "markdown",
   "metadata": {},
   "source": [
    "## Statistical Model Analysis"
   ]
  },
  {
   "cell_type": "markdown",
   "metadata": {},
   "source": [
    "### Model Description and Reasons"
   ]
  },
  {
   "cell_type": "markdown",
   "metadata": {},
   "source": [
    "In order to predict attempt to predict surge pricing, we tested two models to be used. In this case, the dependent variable is presented in classes. We thought that classifying the surge pricing into ‘No Surge,’ ‘Low Surge,’ ‘Middle Surge,’ and ‘High Surge’ would increase the accuracy of the prediction because predicting the exact price would have been difficult with the data set. When cleaning the data set, we found an even split in the classes at 1.5x normal price. This means that any surge below 1.5x was classified as ‘Low Surge’, ‘Middle Surge’ being equal to 1.5x, and ‘High Surge’ as above 1.5x. We assumed that classifying the surge into these four categories would provide better results than predicting the actual number (e.g. classification vs. regression). The first classification model we attempted to use was a Random Forest Classifier. The second classification model we attempted to use was logistic regression with regularization. The models are implemented and described below. In the end, we used the Random Forest Classifier in our Final Analysis and application on the website. We found the accuracy to be very similiar, and the python implimentation for multi-class classification was much more stable and had better vizualization possibilietes."
   ]
  },
  {
   "cell_type": "markdown",
   "metadata": {},
   "source": [
    "###Implementation"
   ]
  },
  {
   "cell_type": "code",
   "execution_count": 90,
   "metadata": {
    "collapsed": true
   },
   "outputs": [],
   "source": [
    "# Import functions needed \n",
    "from  sklearn.ensemble import RandomForestClassifier\n",
    "from sklearn.linear_model import Ridge\n",
    "from sklearn.cross_validation import train_test_split\n",
    "from sklearn.cross_validation import cross_val_score\n",
    "from sklearn.grid_search import GridSearchCV\n",
    "from sklearn.feature_extraction import DictVectorizer\n",
    "from sklearn.linear_model import LogisticRegression"
   ]
  },
  {
   "cell_type": "code",
   "execution_count": 91,
   "metadata": {
    "collapsed": false
   },
   "outputs": [],
   "source": [
    "# split into training and test data\n",
    "itrain, itest = train_test_split(xrange(df_final.shape[0]), train_size=0.7)\n",
    "\n",
    "mask=np.ones(df_final.shape[0], dtype='int')\n",
    "mask[itrain]=1\n",
    "mask[itest]=0\n",
    "mask = (mask==1)\n"
   ]
  },
  {
   "cell_type": "raw",
   "metadata": {},
   "source": [
    "Here we split the data into train and test sets randomly with the training set being 70% of the data."
   ]
  },
  {
   "cell_type": "code",
   "execution_count": 92,
   "metadata": {
    "collapsed": false
   },
   "outputs": [
    {
     "name": "stdout",
     "output_type": "stream",
     "text": [
      "['Clear' 'Rain' 'Fog' 'Cloudy']\n",
      "['UberSUV' 'UberBlack' 'uberXL' 'uberX' 'uberTAXI' 'uberSELECT']\n",
      "['Atlanta' 'San Francisco' 'Washington' 'New York' 'Boston']\n",
      "144\n",
      "<type 'numpy.int64'>\n"
     ]
    }
   ],
   "source": [
    "#Check data cleaning\n",
    "print df_final['weather'].unique()\n",
    "print df_final['cartype'].unique()\n",
    "print df_final['city'].unique()\n",
    "print len(df_final['time'].unique())\n",
    "print type(df_final['temperature'][0])"
   ]
  },
  {
   "cell_type": "markdown",
   "metadata": {},
   "source": [
    "This was only to test the data cleaning to make sure that it was cleaned well."
   ]
  },
  {
   "cell_type": "code",
   "execution_count": 93,
   "metadata": {
    "collapsed": false
   },
   "outputs": [
    {
     "data": {
      "text/html": [
       "<div>\n",
       "<table border=\"1\" class=\"dataframe\">\n",
       "  <thead>\n",
       "    <tr style=\"text-align: right;\">\n",
       "      <th></th>\n",
       "      <th>cartype=UberBlack</th>\n",
       "      <th>cartype=UberSUV</th>\n",
       "      <th>cartype=uberSELECT</th>\n",
       "      <th>cartype=uberTAXI</th>\n",
       "      <th>cartype=uberX</th>\n",
       "      <th>cartype=uberXL</th>\n",
       "      <th>city=Atlanta</th>\n",
       "      <th>city=Boston</th>\n",
       "      <th>city=New York</th>\n",
       "      <th>city=San Francisco</th>\n",
       "      <th>city=Washington</th>\n",
       "      <th>income=High</th>\n",
       "      <th>income=Low</th>\n",
       "      <th>income=Middle</th>\n",
       "      <th>temperature</th>\n",
       "      <th>time=0:0</th>\n",
       "      <th>time=0:10</th>\n",
       "      <th>time=0:20</th>\n",
       "      <th>time=0:30</th>\n",
       "      <th>time=0:40</th>\n",
       "      <th>time=0:50</th>\n",
       "      <th>time=10:0</th>\n",
       "      <th>time=10:10</th>\n",
       "      <th>time=10:20</th>\n",
       "      <th>time=10:30</th>\n",
       "      <th>time=10:40</th>\n",
       "      <th>time=10:50</th>\n",
       "      <th>time=11:0</th>\n",
       "      <th>time=11:10</th>\n",
       "      <th>time=11:20</th>\n",
       "      <th>time=11:30</th>\n",
       "      <th>time=11:40</th>\n",
       "      <th>time=11:50</th>\n",
       "      <th>time=12:0</th>\n",
       "      <th>time=12:10</th>\n",
       "      <th>time=12:20</th>\n",
       "      <th>time=12:30</th>\n",
       "      <th>time=12:40</th>\n",
       "      <th>time=12:50</th>\n",
       "      <th>time=13:0</th>\n",
       "      <th>time=13:10</th>\n",
       "      <th>time=13:20</th>\n",
       "      <th>time=13:30</th>\n",
       "      <th>time=13:40</th>\n",
       "      <th>time=13:50</th>\n",
       "      <th>time=14:0</th>\n",
       "      <th>time=14:10</th>\n",
       "      <th>time=14:20</th>\n",
       "      <th>time=14:30</th>\n",
       "      <th>time=14:40</th>\n",
       "      <th>...</th>\n",
       "      <th>time=3:30</th>\n",
       "      <th>time=3:40</th>\n",
       "      <th>time=3:50</th>\n",
       "      <th>time=4:0</th>\n",
       "      <th>time=4:10</th>\n",
       "      <th>time=4:20</th>\n",
       "      <th>time=4:30</th>\n",
       "      <th>time=4:40</th>\n",
       "      <th>time=4:50</th>\n",
       "      <th>time=5:0</th>\n",
       "      <th>time=5:10</th>\n",
       "      <th>time=5:20</th>\n",
       "      <th>time=5:30</th>\n",
       "      <th>time=5:40</th>\n",
       "      <th>time=5:50</th>\n",
       "      <th>time=6:0</th>\n",
       "      <th>time=6:10</th>\n",
       "      <th>time=6:20</th>\n",
       "      <th>time=6:30</th>\n",
       "      <th>time=6:40</th>\n",
       "      <th>time=6:50</th>\n",
       "      <th>time=7:0</th>\n",
       "      <th>time=7:10</th>\n",
       "      <th>time=7:20</th>\n",
       "      <th>time=7:30</th>\n",
       "      <th>time=7:40</th>\n",
       "      <th>time=7:50</th>\n",
       "      <th>time=8:0</th>\n",
       "      <th>time=8:10</th>\n",
       "      <th>time=8:20</th>\n",
       "      <th>time=8:30</th>\n",
       "      <th>time=8:40</th>\n",
       "      <th>time=8:50</th>\n",
       "      <th>time=9:0</th>\n",
       "      <th>time=9:10</th>\n",
       "      <th>time=9:20</th>\n",
       "      <th>time=9:30</th>\n",
       "      <th>time=9:40</th>\n",
       "      <th>time=9:50</th>\n",
       "      <th>weather=Clear</th>\n",
       "      <th>weather=Cloudy</th>\n",
       "      <th>weather=Fog</th>\n",
       "      <th>weather=Rain</th>\n",
       "      <th>weekday=Friday</th>\n",
       "      <th>weekday=Monday</th>\n",
       "      <th>weekday=Saturday</th>\n",
       "      <th>weekday=Sunday</th>\n",
       "      <th>weekday=Thursday</th>\n",
       "      <th>weekday=Tuesday</th>\n",
       "      <th>weekday=Wednesday</th>\n",
       "    </tr>\n",
       "  </thead>\n",
       "  <tbody>\n",
       "    <tr>\n",
       "      <th>0</th>\n",
       "      <td>0</td>\n",
       "      <td>1</td>\n",
       "      <td>0</td>\n",
       "      <td>0</td>\n",
       "      <td>0</td>\n",
       "      <td>0</td>\n",
       "      <td>1</td>\n",
       "      <td>0</td>\n",
       "      <td>0</td>\n",
       "      <td>0</td>\n",
       "      <td>0</td>\n",
       "      <td>1</td>\n",
       "      <td>0</td>\n",
       "      <td>0</td>\n",
       "      <td>62</td>\n",
       "      <td>0</td>\n",
       "      <td>0</td>\n",
       "      <td>0</td>\n",
       "      <td>0</td>\n",
       "      <td>0</td>\n",
       "      <td>0</td>\n",
       "      <td>0</td>\n",
       "      <td>0</td>\n",
       "      <td>0</td>\n",
       "      <td>0</td>\n",
       "      <td>0</td>\n",
       "      <td>0</td>\n",
       "      <td>0</td>\n",
       "      <td>0</td>\n",
       "      <td>0</td>\n",
       "      <td>0</td>\n",
       "      <td>0</td>\n",
       "      <td>0</td>\n",
       "      <td>0</td>\n",
       "      <td>0</td>\n",
       "      <td>0</td>\n",
       "      <td>0</td>\n",
       "      <td>0</td>\n",
       "      <td>0</td>\n",
       "      <td>0</td>\n",
       "      <td>0</td>\n",
       "      <td>0</td>\n",
       "      <td>0</td>\n",
       "      <td>0</td>\n",
       "      <td>0</td>\n",
       "      <td>0</td>\n",
       "      <td>0</td>\n",
       "      <td>0</td>\n",
       "      <td>0</td>\n",
       "      <td>0</td>\n",
       "      <td>...</td>\n",
       "      <td>0</td>\n",
       "      <td>0</td>\n",
       "      <td>0</td>\n",
       "      <td>0</td>\n",
       "      <td>0</td>\n",
       "      <td>0</td>\n",
       "      <td>0</td>\n",
       "      <td>0</td>\n",
       "      <td>0</td>\n",
       "      <td>0</td>\n",
       "      <td>0</td>\n",
       "      <td>0</td>\n",
       "      <td>0</td>\n",
       "      <td>0</td>\n",
       "      <td>0</td>\n",
       "      <td>0</td>\n",
       "      <td>0</td>\n",
       "      <td>0</td>\n",
       "      <td>0</td>\n",
       "      <td>0</td>\n",
       "      <td>0</td>\n",
       "      <td>0</td>\n",
       "      <td>0</td>\n",
       "      <td>0</td>\n",
       "      <td>0</td>\n",
       "      <td>0</td>\n",
       "      <td>0</td>\n",
       "      <td>0</td>\n",
       "      <td>0</td>\n",
       "      <td>0</td>\n",
       "      <td>0</td>\n",
       "      <td>0</td>\n",
       "      <td>0</td>\n",
       "      <td>0</td>\n",
       "      <td>0</td>\n",
       "      <td>0</td>\n",
       "      <td>0</td>\n",
       "      <td>0</td>\n",
       "      <td>0</td>\n",
       "      <td>1</td>\n",
       "      <td>0</td>\n",
       "      <td>0</td>\n",
       "      <td>0</td>\n",
       "      <td>1</td>\n",
       "      <td>0</td>\n",
       "      <td>0</td>\n",
       "      <td>0</td>\n",
       "      <td>0</td>\n",
       "      <td>0</td>\n",
       "      <td>0</td>\n",
       "    </tr>\n",
       "    <tr>\n",
       "      <th>1</th>\n",
       "      <td>0</td>\n",
       "      <td>1</td>\n",
       "      <td>0</td>\n",
       "      <td>0</td>\n",
       "      <td>0</td>\n",
       "      <td>0</td>\n",
       "      <td>0</td>\n",
       "      <td>0</td>\n",
       "      <td>0</td>\n",
       "      <td>1</td>\n",
       "      <td>0</td>\n",
       "      <td>0</td>\n",
       "      <td>1</td>\n",
       "      <td>0</td>\n",
       "      <td>47</td>\n",
       "      <td>0</td>\n",
       "      <td>0</td>\n",
       "      <td>0</td>\n",
       "      <td>0</td>\n",
       "      <td>0</td>\n",
       "      <td>0</td>\n",
       "      <td>0</td>\n",
       "      <td>0</td>\n",
       "      <td>0</td>\n",
       "      <td>0</td>\n",
       "      <td>0</td>\n",
       "      <td>0</td>\n",
       "      <td>0</td>\n",
       "      <td>0</td>\n",
       "      <td>0</td>\n",
       "      <td>0</td>\n",
       "      <td>0</td>\n",
       "      <td>0</td>\n",
       "      <td>0</td>\n",
       "      <td>0</td>\n",
       "      <td>0</td>\n",
       "      <td>0</td>\n",
       "      <td>0</td>\n",
       "      <td>0</td>\n",
       "      <td>0</td>\n",
       "      <td>0</td>\n",
       "      <td>0</td>\n",
       "      <td>0</td>\n",
       "      <td>0</td>\n",
       "      <td>0</td>\n",
       "      <td>0</td>\n",
       "      <td>0</td>\n",
       "      <td>0</td>\n",
       "      <td>0</td>\n",
       "      <td>0</td>\n",
       "      <td>...</td>\n",
       "      <td>0</td>\n",
       "      <td>0</td>\n",
       "      <td>0</td>\n",
       "      <td>0</td>\n",
       "      <td>0</td>\n",
       "      <td>0</td>\n",
       "      <td>0</td>\n",
       "      <td>0</td>\n",
       "      <td>0</td>\n",
       "      <td>0</td>\n",
       "      <td>0</td>\n",
       "      <td>0</td>\n",
       "      <td>1</td>\n",
       "      <td>0</td>\n",
       "      <td>0</td>\n",
       "      <td>0</td>\n",
       "      <td>0</td>\n",
       "      <td>0</td>\n",
       "      <td>0</td>\n",
       "      <td>0</td>\n",
       "      <td>0</td>\n",
       "      <td>0</td>\n",
       "      <td>0</td>\n",
       "      <td>0</td>\n",
       "      <td>0</td>\n",
       "      <td>0</td>\n",
       "      <td>0</td>\n",
       "      <td>0</td>\n",
       "      <td>0</td>\n",
       "      <td>0</td>\n",
       "      <td>0</td>\n",
       "      <td>0</td>\n",
       "      <td>0</td>\n",
       "      <td>0</td>\n",
       "      <td>0</td>\n",
       "      <td>0</td>\n",
       "      <td>0</td>\n",
       "      <td>0</td>\n",
       "      <td>0</td>\n",
       "      <td>1</td>\n",
       "      <td>0</td>\n",
       "      <td>0</td>\n",
       "      <td>0</td>\n",
       "      <td>0</td>\n",
       "      <td>0</td>\n",
       "      <td>1</td>\n",
       "      <td>0</td>\n",
       "      <td>0</td>\n",
       "      <td>0</td>\n",
       "      <td>0</td>\n",
       "    </tr>\n",
       "    <tr>\n",
       "      <th>2</th>\n",
       "      <td>1</td>\n",
       "      <td>0</td>\n",
       "      <td>0</td>\n",
       "      <td>0</td>\n",
       "      <td>0</td>\n",
       "      <td>0</td>\n",
       "      <td>0</td>\n",
       "      <td>0</td>\n",
       "      <td>0</td>\n",
       "      <td>0</td>\n",
       "      <td>1</td>\n",
       "      <td>0</td>\n",
       "      <td>0</td>\n",
       "      <td>1</td>\n",
       "      <td>40</td>\n",
       "      <td>0</td>\n",
       "      <td>0</td>\n",
       "      <td>0</td>\n",
       "      <td>0</td>\n",
       "      <td>0</td>\n",
       "      <td>0</td>\n",
       "      <td>0</td>\n",
       "      <td>0</td>\n",
       "      <td>0</td>\n",
       "      <td>0</td>\n",
       "      <td>0</td>\n",
       "      <td>0</td>\n",
       "      <td>0</td>\n",
       "      <td>0</td>\n",
       "      <td>0</td>\n",
       "      <td>0</td>\n",
       "      <td>0</td>\n",
       "      <td>0</td>\n",
       "      <td>0</td>\n",
       "      <td>0</td>\n",
       "      <td>0</td>\n",
       "      <td>0</td>\n",
       "      <td>0</td>\n",
       "      <td>0</td>\n",
       "      <td>0</td>\n",
       "      <td>0</td>\n",
       "      <td>0</td>\n",
       "      <td>0</td>\n",
       "      <td>0</td>\n",
       "      <td>0</td>\n",
       "      <td>0</td>\n",
       "      <td>0</td>\n",
       "      <td>0</td>\n",
       "      <td>0</td>\n",
       "      <td>0</td>\n",
       "      <td>...</td>\n",
       "      <td>0</td>\n",
       "      <td>0</td>\n",
       "      <td>0</td>\n",
       "      <td>0</td>\n",
       "      <td>0</td>\n",
       "      <td>0</td>\n",
       "      <td>0</td>\n",
       "      <td>0</td>\n",
       "      <td>0</td>\n",
       "      <td>0</td>\n",
       "      <td>0</td>\n",
       "      <td>0</td>\n",
       "      <td>0</td>\n",
       "      <td>0</td>\n",
       "      <td>0</td>\n",
       "      <td>0</td>\n",
       "      <td>0</td>\n",
       "      <td>0</td>\n",
       "      <td>0</td>\n",
       "      <td>0</td>\n",
       "      <td>0</td>\n",
       "      <td>0</td>\n",
       "      <td>0</td>\n",
       "      <td>1</td>\n",
       "      <td>0</td>\n",
       "      <td>0</td>\n",
       "      <td>0</td>\n",
       "      <td>0</td>\n",
       "      <td>0</td>\n",
       "      <td>0</td>\n",
       "      <td>0</td>\n",
       "      <td>0</td>\n",
       "      <td>0</td>\n",
       "      <td>0</td>\n",
       "      <td>0</td>\n",
       "      <td>0</td>\n",
       "      <td>0</td>\n",
       "      <td>0</td>\n",
       "      <td>0</td>\n",
       "      <td>1</td>\n",
       "      <td>0</td>\n",
       "      <td>0</td>\n",
       "      <td>0</td>\n",
       "      <td>0</td>\n",
       "      <td>0</td>\n",
       "      <td>0</td>\n",
       "      <td>0</td>\n",
       "      <td>1</td>\n",
       "      <td>0</td>\n",
       "      <td>0</td>\n",
       "    </tr>\n",
       "    <tr>\n",
       "      <th>3</th>\n",
       "      <td>0</td>\n",
       "      <td>0</td>\n",
       "      <td>0</td>\n",
       "      <td>0</td>\n",
       "      <td>0</td>\n",
       "      <td>1</td>\n",
       "      <td>1</td>\n",
       "      <td>0</td>\n",
       "      <td>0</td>\n",
       "      <td>0</td>\n",
       "      <td>0</td>\n",
       "      <td>0</td>\n",
       "      <td>1</td>\n",
       "      <td>0</td>\n",
       "      <td>69</td>\n",
       "      <td>0</td>\n",
       "      <td>0</td>\n",
       "      <td>0</td>\n",
       "      <td>0</td>\n",
       "      <td>0</td>\n",
       "      <td>0</td>\n",
       "      <td>0</td>\n",
       "      <td>0</td>\n",
       "      <td>0</td>\n",
       "      <td>0</td>\n",
       "      <td>0</td>\n",
       "      <td>0</td>\n",
       "      <td>0</td>\n",
       "      <td>0</td>\n",
       "      <td>0</td>\n",
       "      <td>0</td>\n",
       "      <td>0</td>\n",
       "      <td>0</td>\n",
       "      <td>0</td>\n",
       "      <td>0</td>\n",
       "      <td>0</td>\n",
       "      <td>0</td>\n",
       "      <td>0</td>\n",
       "      <td>0</td>\n",
       "      <td>0</td>\n",
       "      <td>0</td>\n",
       "      <td>0</td>\n",
       "      <td>0</td>\n",
       "      <td>0</td>\n",
       "      <td>0</td>\n",
       "      <td>0</td>\n",
       "      <td>0</td>\n",
       "      <td>0</td>\n",
       "      <td>0</td>\n",
       "      <td>0</td>\n",
       "      <td>...</td>\n",
       "      <td>0</td>\n",
       "      <td>0</td>\n",
       "      <td>0</td>\n",
       "      <td>0</td>\n",
       "      <td>0</td>\n",
       "      <td>0</td>\n",
       "      <td>0</td>\n",
       "      <td>0</td>\n",
       "      <td>0</td>\n",
       "      <td>0</td>\n",
       "      <td>0</td>\n",
       "      <td>0</td>\n",
       "      <td>0</td>\n",
       "      <td>0</td>\n",
       "      <td>0</td>\n",
       "      <td>0</td>\n",
       "      <td>0</td>\n",
       "      <td>0</td>\n",
       "      <td>0</td>\n",
       "      <td>0</td>\n",
       "      <td>0</td>\n",
       "      <td>0</td>\n",
       "      <td>0</td>\n",
       "      <td>0</td>\n",
       "      <td>0</td>\n",
       "      <td>0</td>\n",
       "      <td>0</td>\n",
       "      <td>0</td>\n",
       "      <td>0</td>\n",
       "      <td>0</td>\n",
       "      <td>0</td>\n",
       "      <td>0</td>\n",
       "      <td>0</td>\n",
       "      <td>0</td>\n",
       "      <td>0</td>\n",
       "      <td>0</td>\n",
       "      <td>0</td>\n",
       "      <td>0</td>\n",
       "      <td>0</td>\n",
       "      <td>1</td>\n",
       "      <td>0</td>\n",
       "      <td>0</td>\n",
       "      <td>0</td>\n",
       "      <td>0</td>\n",
       "      <td>1</td>\n",
       "      <td>0</td>\n",
       "      <td>0</td>\n",
       "      <td>0</td>\n",
       "      <td>0</td>\n",
       "      <td>0</td>\n",
       "    </tr>\n",
       "    <tr>\n",
       "      <th>4</th>\n",
       "      <td>1</td>\n",
       "      <td>0</td>\n",
       "      <td>0</td>\n",
       "      <td>0</td>\n",
       "      <td>0</td>\n",
       "      <td>0</td>\n",
       "      <td>1</td>\n",
       "      <td>0</td>\n",
       "      <td>0</td>\n",
       "      <td>0</td>\n",
       "      <td>0</td>\n",
       "      <td>0</td>\n",
       "      <td>1</td>\n",
       "      <td>0</td>\n",
       "      <td>66</td>\n",
       "      <td>0</td>\n",
       "      <td>0</td>\n",
       "      <td>0</td>\n",
       "      <td>0</td>\n",
       "      <td>0</td>\n",
       "      <td>0</td>\n",
       "      <td>0</td>\n",
       "      <td>0</td>\n",
       "      <td>0</td>\n",
       "      <td>0</td>\n",
       "      <td>0</td>\n",
       "      <td>0</td>\n",
       "      <td>0</td>\n",
       "      <td>0</td>\n",
       "      <td>0</td>\n",
       "      <td>0</td>\n",
       "      <td>0</td>\n",
       "      <td>0</td>\n",
       "      <td>0</td>\n",
       "      <td>0</td>\n",
       "      <td>0</td>\n",
       "      <td>0</td>\n",
       "      <td>0</td>\n",
       "      <td>1</td>\n",
       "      <td>0</td>\n",
       "      <td>0</td>\n",
       "      <td>0</td>\n",
       "      <td>0</td>\n",
       "      <td>0</td>\n",
       "      <td>0</td>\n",
       "      <td>0</td>\n",
       "      <td>0</td>\n",
       "      <td>0</td>\n",
       "      <td>0</td>\n",
       "      <td>0</td>\n",
       "      <td>...</td>\n",
       "      <td>0</td>\n",
       "      <td>0</td>\n",
       "      <td>0</td>\n",
       "      <td>0</td>\n",
       "      <td>0</td>\n",
       "      <td>0</td>\n",
       "      <td>0</td>\n",
       "      <td>0</td>\n",
       "      <td>0</td>\n",
       "      <td>0</td>\n",
       "      <td>0</td>\n",
       "      <td>0</td>\n",
       "      <td>0</td>\n",
       "      <td>0</td>\n",
       "      <td>0</td>\n",
       "      <td>0</td>\n",
       "      <td>0</td>\n",
       "      <td>0</td>\n",
       "      <td>0</td>\n",
       "      <td>0</td>\n",
       "      <td>0</td>\n",
       "      <td>0</td>\n",
       "      <td>0</td>\n",
       "      <td>0</td>\n",
       "      <td>0</td>\n",
       "      <td>0</td>\n",
       "      <td>0</td>\n",
       "      <td>0</td>\n",
       "      <td>0</td>\n",
       "      <td>0</td>\n",
       "      <td>0</td>\n",
       "      <td>0</td>\n",
       "      <td>0</td>\n",
       "      <td>0</td>\n",
       "      <td>0</td>\n",
       "      <td>0</td>\n",
       "      <td>0</td>\n",
       "      <td>0</td>\n",
       "      <td>0</td>\n",
       "      <td>0</td>\n",
       "      <td>0</td>\n",
       "      <td>0</td>\n",
       "      <td>1</td>\n",
       "      <td>0</td>\n",
       "      <td>0</td>\n",
       "      <td>0</td>\n",
       "      <td>0</td>\n",
       "      <td>0</td>\n",
       "      <td>0</td>\n",
       "      <td>1</td>\n",
       "    </tr>\n",
       "  </tbody>\n",
       "</table>\n",
       "<p>5 rows × 170 columns</p>\n",
       "</div>"
      ],
      "text/plain": [
       "   cartype=UberBlack  cartype=UberSUV  cartype=uberSELECT  cartype=uberTAXI  cartype=uberX  cartype=uberXL  city=Atlanta  city=Boston  city=New York  city=San Francisco  city=Washington  income=High  income=Low  income=Middle  temperature  time=0:0  time=0:10  time=0:20  time=0:30  time=0:40  time=0:50  time=10:0  time=10:10  time=10:20  time=10:30  time=10:40  time=10:50  time=11:0  time=11:10  time=11:20  time=11:30  time=11:40  time=11:50  time=12:0  time=12:10  time=12:20  time=12:30  \\\n",
       "0                  0                1                   0                 0              0               0             1            0              0                   0                0            1           0              0           62         0          0          0          0          0          0          0           0           0           0           0           0          0           0           0           0           0           0          0           0           0           0   \n",
       "1                  0                1                   0                 0              0               0             0            0              0                   1                0            0           1              0           47         0          0          0          0          0          0          0           0           0           0           0           0          0           0           0           0           0           0          0           0           0           0   \n",
       "2                  1                0                   0                 0              0               0             0            0              0                   0                1            0           0              1           40         0          0          0          0          0          0          0           0           0           0           0           0          0           0           0           0           0           0          0           0           0           0   \n",
       "3                  0                0                   0                 0              0               1             1            0              0                   0                0            0           1              0           69         0          0          0          0          0          0          0           0           0           0           0           0          0           0           0           0           0           0          0           0           0           0   \n",
       "4                  1                0                   0                 0              0               0             1            0              0                   0                0            0           1              0           66         0          0          0          0          0          0          0           0           0           0           0           0          0           0           0           0           0           0          0           0           0           0   \n",
       "\n",
       "   time=12:40  time=12:50  time=13:0  time=13:10  time=13:20  time=13:30  time=13:40  time=13:50  time=14:0  time=14:10  time=14:20  time=14:30  time=14:40        ...          time=3:30  time=3:40  time=3:50  time=4:0  time=4:10  time=4:20  time=4:30  time=4:40  time=4:50  time=5:0  time=5:10  time=5:20  time=5:30  time=5:40  time=5:50  time=6:0  time=6:10  time=6:20  time=6:30  time=6:40  time=6:50  time=7:0  time=7:10  time=7:20  time=7:30  time=7:40  time=7:50  time=8:0  time=8:10  \\\n",
       "0           0           0          0           0           0           0           0           0          0           0           0           0           0        ...                  0          0          0         0          0          0          0          0          0         0          0          0          0          0          0         0          0          0          0          0          0         0          0          0          0          0          0         0          0   \n",
       "1           0           0          0           0           0           0           0           0          0           0           0           0           0        ...                  0          0          0         0          0          0          0          0          0         0          0          0          1          0          0         0          0          0          0          0          0         0          0          0          0          0          0         0          0   \n",
       "2           0           0          0           0           0           0           0           0          0           0           0           0           0        ...                  0          0          0         0          0          0          0          0          0         0          0          0          0          0          0         0          0          0          0          0          0         0          0          1          0          0          0         0          0   \n",
       "3           0           0          0           0           0           0           0           0          0           0           0           0           0        ...                  0          0          0         0          0          0          0          0          0         0          0          0          0          0          0         0          0          0          0          0          0         0          0          0          0          0          0         0          0   \n",
       "4           0           1          0           0           0           0           0           0          0           0           0           0           0        ...                  0          0          0         0          0          0          0          0          0         0          0          0          0          0          0         0          0          0          0          0          0         0          0          0          0          0          0         0          0   \n",
       "\n",
       "   time=8:20  time=8:30  time=8:40  time=8:50  time=9:0  time=9:10  time=9:20  time=9:30  time=9:40  time=9:50  weather=Clear  weather=Cloudy  weather=Fog  weather=Rain  weekday=Friday  weekday=Monday  weekday=Saturday  weekday=Sunday  weekday=Thursday  weekday=Tuesday  weekday=Wednesday  \n",
       "0          0          0          0          0         0          0          0          0          0          0              1               0            0             0               1               0                 0               0                 0                0                  0  \n",
       "1          0          0          0          0         0          0          0          0          0          0              1               0            0             0               0               0                 1               0                 0                0                  0  \n",
       "2          0          0          0          0         0          0          0          0          0          0              1               0            0             0               0               0                 0               0                 1                0                  0  \n",
       "3          0          0          0          0         0          0          0          0          0          0              1               0            0             0               0               1                 0               0                 0                0                  0  \n",
       "4          0          0          0          0         0          0          0          0          0          0              0               0            0             1               0               0                 0               0                 0                0                  1  \n",
       "\n",
       "[5 rows x 170 columns]"
      ]
     },
     "execution_count": 93,
     "metadata": {},
     "output_type": "execute_result"
    }
   ],
   "source": [
    "#Create the X matrix\n",
    "Xvec_list = []\n",
    "for i in range(len(df_final)):\n",
    "    temp_dict = {}\n",
    "    temp_dict['city'] = dict_final['city'][i]\n",
    "    temp_dict['cartype'] = dict_final['cartype'][i]\n",
    "    temp_dict['income'] = dict_final['income'][i]\n",
    "    temp_dict['temperature'] = dict_final['temperature'][i]\n",
    "    temp_dict['time'] = dict_final['time'][i]\n",
    "    temp_dict['weather'] = dict_final['weather'][i]\n",
    "    temp_dict['weekday'] = dict_final['weekday'][i]\n",
    "    Xvec_list.append(temp_dict)\n",
    "\n",
    "vec = DictVectorizer()\n",
    "vec.fit_transform(Xvec_list)\n",
    "fcolumns = vec.get_feature_names()\n",
    "data = vec.fit_transform(Xvec_list).toarray()\n",
    "X_final = pd.DataFrame(data = data, columns = fcolumns)\n",
    "X_final.head()"
   ]
  },
  {
   "cell_type": "markdown",
   "metadata": {},
   "source": [
    "This is just using DictVectorizer in order to create categorical dummy variables for each categorical variables. This leaves the only numerical variable 'temperature' alone. This creates the X columns to be passed into the models."
   ]
  },
  {
   "cell_type": "markdown",
   "metadata": {},
   "source": [
    "#### Random Forest"
   ]
  },
  {
   "cell_type": "markdown",
   "metadata": {},
   "source": [
    "A Random Forest Classifier is an ensemble method that trains a specific number of decision trees and calculates a prediction based on running data through each tree, getting a classification, and weighing the classification by variance in order to produce a final prediction. This classifier makes sense in this context for a number of reasons. First, we are using a dataset with unbalanced classes—there are many more cases where there is ‘No Surge’ than the other three classes. As you will see later, the Random Forest accounts for the unbalanced data set using the ‘subsample’ method. This means that when each tree is being trained, the algorithm automatically samples the data to have an equal number of classes for each tree. Second, we have a lot of data. Random Forest classifiers samples from the data many times and so the prediction will be optimal if there is a lot of data to be used. Finally, we are able to look at feature importance in the data, which is particularly enlightening on this data set. Thus we are able to see if temperature, time, or weather have the biggest effect on the pricing prediction."
   ]
  },
  {
   "cell_type": "code",
   "execution_count": 94,
   "metadata": {
    "collapsed": false
   },
   "outputs": [
    {
     "data": {
      "text/html": [
       "<div>\n",
       "<table border=\"1\" class=\"dataframe\">\n",
       "  <thead>\n",
       "    <tr style=\"text-align: right;\">\n",
       "      <th></th>\n",
       "      <th>surge=High Surge</th>\n",
       "      <th>surge=Low Surge</th>\n",
       "      <th>surge=Mid Surge</th>\n",
       "      <th>surge=No Surge</th>\n",
       "    </tr>\n",
       "  </thead>\n",
       "  <tbody>\n",
       "    <tr>\n",
       "      <th>0</th>\n",
       "      <td>0</td>\n",
       "      <td>0</td>\n",
       "      <td>0</td>\n",
       "      <td>1</td>\n",
       "    </tr>\n",
       "    <tr>\n",
       "      <th>1</th>\n",
       "      <td>0</td>\n",
       "      <td>0</td>\n",
       "      <td>0</td>\n",
       "      <td>1</td>\n",
       "    </tr>\n",
       "    <tr>\n",
       "      <th>2</th>\n",
       "      <td>0</td>\n",
       "      <td>0</td>\n",
       "      <td>0</td>\n",
       "      <td>1</td>\n",
       "    </tr>\n",
       "    <tr>\n",
       "      <th>3</th>\n",
       "      <td>0</td>\n",
       "      <td>0</td>\n",
       "      <td>0</td>\n",
       "      <td>1</td>\n",
       "    </tr>\n",
       "    <tr>\n",
       "      <th>4</th>\n",
       "      <td>0</td>\n",
       "      <td>0</td>\n",
       "      <td>0</td>\n",
       "      <td>1</td>\n",
       "    </tr>\n",
       "  </tbody>\n",
       "</table>\n",
       "</div>"
      ],
      "text/plain": [
       "   surge=High Surge  surge=Low Surge  surge=Mid Surge  surge=No Surge\n",
       "0                 0                0                0               1\n",
       "1                 0                0                0               1\n",
       "2                 0                0                0               1\n",
       "3                 0                0                0               1\n",
       "4                 0                0                0               1"
      ]
     },
     "execution_count": 94,
     "metadata": {},
     "output_type": "execute_result"
    }
   ],
   "source": [
    "#Create the Y matrix\n",
    "Yvec_list = []\n",
    "for i in range(len(df_final)):\n",
    "    temp_dict = {}\n",
    "    temp_dict['surge'] = dict_final['surge'][i]\n",
    "    Yvec_list.append(temp_dict)\n",
    "\n",
    "vec2 = DictVectorizer()\n",
    "vec2.fit_transform(Yvec_list)\n",
    "columns = vec2.get_feature_names()\n",
    "data = vec2.fit_transform(Yvec_list).toarray()\n",
    "Y_final = pd.DataFrame(data = data, columns = columns)\n",
    "Y_final.head()"
   ]
  },
  {
   "cell_type": "markdown",
   "metadata": {},
   "source": [
    "Creating the Y variable for **Random Forest only** as it needs the categories in dummy variables. The Logistic Regression Y variable will be created later."
   ]
  },
  {
   "cell_type": "code",
   "execution_count": 95,
   "metadata": {
    "collapsed": false
   },
   "outputs": [],
   "source": [
    "#Train and test sets and a validation set to be used if needed \n",
    "#(I ended up just using the cross validation function which does the validation set for us)\n",
    "X = X_final[mask]\n",
    "Y = Y_final[mask]\n",
    "X_test = X_final[~mask]\n",
    "Y_test = Y_final[~mask]"
   ]
  },
  {
   "cell_type": "code",
   "execution_count": 96,
   "metadata": {
    "collapsed": true
   },
   "outputs": [],
   "source": [
    "# Use cv_optimize writen in hw3\n",
    "def cv_optimize(clf, parameters, X, y, n_folds= 5, score_func= None):\n",
    "    clftemp = GridSearchCV(clf, parameters, cv = n_folds, score_func=score_func )\n",
    "    clftemp.fit(X, y)\n",
    "    best = clftemp.best_estimator_\n",
    "    params = clftemp.best_params_\n",
    "    print best\n",
    "    return best, params"
   ]
  },
  {
   "cell_type": "markdown",
   "metadata": {},
   "source": [
    "This is where we do the cross validation to find the best parameters to use for the given model (Random Forest or Logistic Regression). It takes in a model (clf) and dict of parameters to be checked over, and finds the optimal model."
   ]
  },
  {
   "cell_type": "code",
   "execution_count": 97,
   "metadata": {
    "collapsed": true
   },
   "outputs": [],
   "source": [
    "#parameter dictionary to be passed into cv_optimize\n",
    "parameters_dict = {}\n",
    "parameters_dict['max_features'] = ['auto', 'sqrt', 'log2', None]\n",
    "parameters_dict['class_weight'] = ['subsample']\n",
    "parameters_dict['max_depth'] = [None]\n",
    "rf = RandomForestClassifier(oob_score = True)"
   ]
  },
  {
   "cell_type": "markdown",
   "metadata": {},
   "source": [
    "The parameters to be checked for Random Forest. When optimizing a Random Forest, the main optimization hyperparameters are \"max features\", which chooses the number of parameters that are used for each split to cause variance within the trees (strengthens the prediction), and the number of trees to be constructed. Other than those hyperparameters, we chose 'subsample' for the class_weight hyperparameter in order to account for the unbalanced nature of the data set. Max_depth for each tree was not tuned because there did not seem to be a high level of overfitting. Out of bag scores were used when training the model in order to have an inherent 'validation' set for each tree from the observations not sampled."
   ]
  },
  {
   "cell_type": "code",
   "execution_count": 98,
   "metadata": {
    "collapsed": false
   },
   "outputs": [
    {
     "name": "stdout",
     "output_type": "stream",
     "text": [
      "RandomForestClassifier(bootstrap=True, class_weight='subsample',\n",
      "            criterion='gini', max_depth=None, max_features='sqrt',\n",
      "            max_leaf_nodes=None, min_samples_leaf=1, min_samples_split=2,\n",
      "            min_weight_fraction_leaf=0.0, n_estimators=10, n_jobs=1,\n",
      "            oob_score=True, random_state=None, verbose=0, warm_start=False)\n",
      "Wall time: 22min 18s\n"
     ]
    },
    {
     "name": "stderr",
     "output_type": "stream",
     "text": [
      "C:\\Users\\ptrab_000\\Anaconda\\lib\\site-packages\\sklearn\\ensemble\\forest.py:379: UserWarning:\n",
      "\n",
      "Some inputs do not have OOB scores. This probably means too few trees were used to compute any reliable oob estimates.\n",
      "\n"
     ]
    }
   ],
   "source": [
    "%%time\n",
    "rf2, rf2params = cv_optimize(rf,parameters_dict, X, Y)"
   ]
  },
  {
   "cell_type": "code",
   "execution_count": 99,
   "metadata": {
    "collapsed": false
   },
   "outputs": [
    {
     "data": {
      "text/plain": [
       "{'class_weight': 'subsample', 'max_depth': None, 'max_features': 'sqrt'}"
      ]
     },
     "execution_count": 99,
     "metadata": {},
     "output_type": "execute_result"
    }
   ],
   "source": [
    "#best predictor\n",
    "rf2 = RandomForestClassifier(class_weight = rf2params['class_weight'],\n",
    "                             max_depth = rf2params['max_depth'], max_features = rf2params['max_features'], oob_score = True)\n",
    "rf2params"
   ]
  },
  {
   "cell_type": "code",
   "execution_count": 100,
   "metadata": {
    "collapsed": true
   },
   "outputs": [],
   "source": [
    "#See how prediction evolves over the amount of trees in random forest\n",
    "#note: will always increase with more trees, but reaches a \"limit\" where it just takes forever to train the model,\n",
    "#so pick a place where this is optimal by a time prespective\n",
    "\n",
    "num_trees = range(10,110,10)\n",
    "scores = []\n",
    "for i in range(len(num_trees)):\n",
    "    rf2 = RandomForestClassifier(n_estimators = num_trees[i],\n",
    "                                 class_weight = 'subsample', \n",
    "                                 max_depth = rf2params['max_depth'],\n",
    "                                oob_score = True,\n",
    "                                max_features = rf2params['max_features'])\n",
    "    rf2.fit(X,Y)\n",
    "    scores.append(rf2.score(X_test,Y_test))"
   ]
  },
  {
   "cell_type": "code",
   "execution_count": 101,
   "metadata": {
    "collapsed": false
   },
   "outputs": [
    {
     "data": {
      "image/png": "[encoded data removed]",
      "text/plain": [
       "<matplotlib.figure.Figure at 0x1f871358>"
      ]
     },
     "metadata": {},
     "output_type": "display_data"
    }
   ],
   "source": [
    "#show plot of error and number of trees in classifier\n",
    "plt.plot(scores)\n",
    "plt.xticks(np.arange(10),num_trees)\n",
    "plt.ylabel('Classification Error')\n",
    "plt.xlabel('Number of Trees')\n",
    "plt.title('Error by Number of Classification Trees')\n",
    "plt.grid('off')\n",
    "plt.show()"
   ]
  },
  {
   "cell_type": "markdown",
   "metadata": {},
   "source": [
    "Here is where I see where the optimal number of trees to be built is. So, the more trees you build the better the prediction will be in theory, but if you build 100,000 trees a lot of them will be redundent and it will take FOREVER to train and test. Therefore, this graph shows that after about 20 trees the model's prediction power levels off. We end up using more trees just to be safe and end up using 70 in the next block of code below. This seems to be a good number to optimize the predictive power while not taking forever to create."
   ]
  },
  {
   "cell_type": "code",
   "execution_count": 102,
   "metadata": {
    "collapsed": false
   },
   "outputs": [
    {
     "name": "stdout",
     "output_type": "stream",
     "text": [
      "Mean Accuracy of subsample prediction on test Set 96.2\n",
      "Mean Accuracy of subsample prediction on training Set 98.4\n"
     ]
    }
   ],
   "source": [
    "#check the score on the test set for overfitting\n",
    "rf2 = RandomForestClassifier(n_estimators = 70,\n",
    "                             class_weight = rf2params['class_weight'], \n",
    "                             max_depth = rf2params['max_depth'],\n",
    "                             max_features = rf2params['max_features'],\n",
    "                             oob_score = True)\n",
    "\n",
    "rf2.fit(X,Y)\n",
    "print \"Mean Accuracy of subsample prediction on test Set %0.1f\" % (100*rf2.score(X_test,Y_test))\n",
    "print \"Mean Accuracy of subsample prediction on training Set %0.1f\" % (100* rf2.score(X,Y))"
   ]
  },
  {
   "cell_type": "markdown",
   "metadata": {},
   "source": [
    "Here we fit the model and look at the accuracy of the prediction on the training and test sets to test for overfitting. As you can see, there is a small drop in accuracy from training to test set (expected), but the difference is not large enough to worry about overfitting. Also, per the RandomForestClassifier documentation, the accuracy metric for multi-class prediction is particularly harsh because **each class is predicted for each observation and factored into the score**. Therefore, the accuracy reported here may under estimate accuracy on the different data sets."
   ]
  },
  {
   "cell_type": "code",
   "execution_count": 103,
   "metadata": {
    "collapsed": false
   },
   "outputs": [
    {
     "name": "stdout",
     "output_type": "stream",
     "text": [
      "C:\\Users\\ptrab_000\\uber_surge_pricing\n"
     ]
    }
   ],
   "source": [
    "from sklearn.externals import joblib\n",
    "import os\n",
    "os.chdir(\"modelfiles\")\n",
    "joblib.dump(rf2,\"RandomForestClassifier.pkl\", compress = 3)\n",
    "os.chdir(\"..\")\n",
    "print os.getcwd()"
   ]
  },
  {
   "cell_type": "code",
   "execution_count": 104,
   "metadata": {
    "collapsed": false
   },
   "outputs": [],
   "source": [
    "os.chdir(\"xcolumns\")\n",
    "joblib.dump(fcolumns,\"columns.pkl\", compress = 3)\n",
    "clf = joblib.load('columns.pkl')\n",
    "os.chdir(\"..\")\n"
   ]
  },
  {
   "cell_type": "markdown",
   "metadata": {},
   "source": [
    "This is code in order to save the model files for later use. This will later be used to impliment the model into the website."
   ]
  },
  {
   "cell_type": "markdown",
   "metadata": {},
   "source": [
    "#### Logistic Regression (Not used, just included for reference)"
   ]
  },
  {
   "cell_type": "markdown",
   "metadata": {},
   "source": [
    "Here we just include the code used to test logistic regression. With logistic regression, we spent a lot of time trying to tune the predictor, but the model seemed to perform very similiar to the Random Forest. This makes intuitive sense for this dataset. The decision boundaries are much more complex in the Random Forest Classifier and are not strictly linear like that of the Logistic Regression. As the Exploratory analysis shows above, the factors do not seem to be very linear with respect to our classifications. Therefore, the logistic regression (even using both Lasso and Ridge regularization) was not used in favor of the Random Forest Classifier."
   ]
  },
  {
   "cell_type": "code",
   "execution_count": 105,
   "metadata": {
    "collapsed": false
   },
   "outputs": [
    {
     "data": {
      "text/plain": [
       "0    No Surge\n",
       "2    No Surge\n",
       "4    No Surge\n",
       "5    No Surge\n",
       "6    No Surge\n",
       "Name: surge, dtype: object"
      ]
     },
     "execution_count": 105,
     "metadata": {},
     "output_type": "execute_result"
    }
   ],
   "source": [
    "# Fix the Y variable for Logistic Regression\n",
    "df_final['surge'].head()\n",
    "Y_lreg = df_final['surge'][mask]\n",
    "Y_lregtest = df_final['surge'][~mask]\n",
    "Y_lreg.head()"
   ]
  },
  {
   "cell_type": "code",
   "execution_count": 106,
   "metadata": {
    "collapsed": true
   },
   "outputs": [],
   "source": [
    "#parameters to be tested for Logistic Regression\n",
    "lreg_paramdict = {}\n",
    "lreg_paramdict['C'] = [0.001, 0.01, 0.1, 1.0, 10.0, 100.0]\n",
    "lreg_paramdict['penalty'] = ['l1','l2']\n",
    "lreg_paramdict['multi_class'] = ['ovr']\n",
    "lreg_paramdict['class_weight'] = ['auto',None]\n",
    "lreg = LogisticRegression(solver ='lbfgs' )"
   ]
  },
  {
   "cell_type": "markdown",
   "metadata": {},
   "source": [
    "Above are the hyperparameters that are passed into the regression crossvalidation function. C stands for the regularization coefficient to effect the magnitude of the penalty of having excess variables. Penalty provides the regularization penalty. The 'l1' input uses the Lasso regression model to heavily restrict the feature selection, while 'l2'(Ridge) also restricts feature selection but less. We also altered the solver used and how the algorithm accounts for the multiple classes, but neather seemed to affect the prediction to a great extent."
   ]
  },
  {
   "cell_type": "code",
   "execution_count": 107,
   "metadata": {
    "collapsed": false
   },
   "outputs": [
    {
     "name": "stdout",
     "output_type": "stream",
     "text": [
      "LogisticRegression(C=0.001, class_weight=None, dual=False, fit_intercept=True,\n",
      "          intercept_scaling=1, max_iter=100, multi_class='ovr',\n",
      "          penalty='l1', random_state=None, solver='lbfgs', tol=0.0001,\n",
      "          verbose=0)\n",
      "Wall time: 38min 49s\n"
     ]
    }
   ],
   "source": [
    "%%time\n",
    "#optimize parameters for logistic regression\n",
    "lreg2, lregparams = cv_optimize(lreg,lreg_paramdict, X, Y_lreg)"
   ]
  },
  {
   "cell_type": "code",
   "execution_count": 108,
   "metadata": {
    "collapsed": false
   },
   "outputs": [
    {
     "name": "stdout",
     "output_type": "stream",
     "text": [
      "Mean Accuracy of prediction on test Set 96.4\n",
      "Mean Accuracy of prediction on training Set 96.4\n"
     ]
    }
   ],
   "source": [
    "lreg2 = LogisticRegression(solver ='lbfgs', C = lregparams['C'], class_weight = lregparams['class_weight'],\n",
    "                           multi_class = lregparams['multi_class'], penalty = lregparams['penalty'] )\n",
    "lreg2.fit(X,Y_lreg)\n",
    "print \"Mean Accuracy of prediction on test Set %0.1f\" % (100*lreg2.score(X_test,Y_lregtest))\n",
    "print \"Mean Accuracy of prediction on training Set %0.1f\" % (100* lreg2.score(X,Y_lreg))"
   ]
  },
  {
   "cell_type": "markdown",
   "metadata": {},
   "source": [
    "As you can see, there is not any indication of overfitting using this model. However, the accuracy seems to be very similiarto the Random Forest Prediction as discussed above. Therefore, no additional work was done using logistic regression."
   ]
  },
  {
   "cell_type": "markdown",
   "metadata": {
    "collapsed": true
   },
   "source": [
    "##Final Analysis"
   ]
  },
  {
   "cell_type": "markdown",
   "metadata": {},
   "source": [
    "The final analysis, as discussed above, was completed using the Random Forest Classifier due to our preference to work with sklearn's implimentation of the Random Forest. First, we look at the feature importance found in the model sorted by the features that effect the prediction the most. Second, we restrict the model to the Boston area to look at how the city specific surge prices are affected by some of the most important variables found in the model: temperature and cartype."
   ]
  },
  {
   "cell_type": "markdown",
   "metadata": {},
   "source": [
    "###Feauture Importance"
   ]
  },
  {
   "cell_type": "code",
   "execution_count": 109,
   "metadata": {
    "collapsed": false
   },
   "outputs": [
    {
     "data": {
      "text/plain": [
       "<matplotlib.text.Text at 0x4de73438>"
      ]
     },
     "execution_count": 109,
     "metadata": {},
     "output_type": "execute_result"
    },
    {
     "data": {
      "image/png": "[encoded data removed]",
      "text/plain": [
       "<matplotlib.figure.Figure at 0x4e0dc588>"
      ]
     },
     "metadata": {},
     "output_type": "display_data"
    }
   ],
   "source": [
    "features = rf2.feature_importances_\n",
    "\n",
    "feature_dict = {}\n",
    "for i in range(len(features)):\n",
    "    feature_dict[fcolumns[i]] = features[i]\n",
    "\n",
    "keys_sorted = sorted(feature_dict, key=feature_dict.get, reverse=True)[:10]\n",
    "\n",
    "feature_list = []\n",
    "feature_name = []\n",
    "for i in range(len(keys_sorted)):\n",
    "    feature_list.append(feature_dict[keys_sorted[len(keys_sorted)-1-i]])\n",
    "    temp = keys_sorted[len(keys_sorted)-1-i]\n",
    "    temp = temp.replace(\"=\", \": \")\n",
    "    feature_name.append(temp)\n",
    "\n",
    "\n",
    "plt.barh(np.arange(10),feature_list, color = 'blue')\n",
    "plt.yticks(np.arange(10) + 0.75, feature_name)\n",
    "plt.grid('off')\n",
    "plt.title('Top 10 Features Sorted by Importance')\n",
    "plt.xlabel('Feature Importance')\n",
    "    "
   ]
  },
  {
   "cell_type": "markdown",
   "metadata": {
    "collapsed": true
   },
   "source": [
    "The above graph shows the top 10 most predictive features in the model. As you can see (fairly surprisingly), temperature is by far the most predictive variable that we pass into the model. Second, the next variable that seems to effect the prediction is the type of car. This is interesting because our car type feature serves as a proxy for the supply and demand dynamics of each uber service. The effect of the different car types and temperature is further explored below"
   ]
  },
  {
   "cell_type": "markdown",
   "metadata": {},
   "source": [
    "###Feature Effect on Boston Ubers"
   ]
  },
  {
   "cell_type": "markdown",
   "metadata": {},
   "source": [
    "####Temperature"
   ]
  },
  {
   "cell_type": "code",
   "execution_count": 114,
   "metadata": {
    "collapsed": false
   },
   "outputs": [],
   "source": [
    "test = range(30,71)\n",
    "temp_X = [0] * len(fcolumns)\n",
    "\n",
    "# Set cartype to uberX\n",
    "temp_X[4] = 1\n",
    "#Set city to Boston\n",
    "temp_X[7] = 1\n",
    "#Set income to Middle\n",
    "temp_X[13] = 1\n",
    "#Set time to 17:30\n",
    "temp_X[66] = 1\n",
    "#Set weather to Clear\n",
    "temp_X[len(temp_X) - 11] = 1\n",
    "#Set Day to wednesday\n",
    "temp_X[len(temp_X)-1] = 1\n",
    "\n",
    "# get prediction probabilities\n",
    "prob_nsurge = []\n",
    "for i in test:\n",
    "    temp_X[14] = i\n",
    "    prob_nsurge.append(rf2.predict_proba(temp_X)[3][0][1])"
   ]
  },
  {
   "cell_type": "code",
   "execution_count": 115,
   "metadata": {
    "collapsed": false
   },
   "outputs": [
    {
     "data": {
      "image/png": "[encoded data removed]",
      "text/plain": [
       "<matplotlib.figure.Figure at 0x4db9d8d0>"
      ]
     },
     "metadata": {},
     "output_type": "display_data"
    }
   ],
   "source": [
    "plt.plot(prob_nsurge)\n",
    "plt.xticks(np.arange(len(test)),test, rotation = -45)\n",
    "plt.grid('off')\n",
    "plt.ylabel('Probability of Surge')\n",
    "plt.xlabel('Temperature')\n",
    "plt.title('Change in Surge Probability by Temperature in Boston')\n",
    "plt.show()"
   ]
  },
  {
   "cell_type": "markdown",
   "metadata": {},
   "source": [
    "This is one of the main outputs of our model. As temperature increases so does the probability of there being no uber surge. Interestingly enough, if you want to get a cheap uber, then use the service when it is hot outside! It appears that the colder the temperature is, the more likely there is to be a surge multiple on your uber ride in Boston."
   ]
  },
  {
   "cell_type": "markdown",
   "metadata": {},
   "source": [
    "####Car Type"
   ]
  },
  {
   "cell_type": "code",
   "execution_count": 116,
   "metadata": {
    "collapsed": false
   },
   "outputs": [],
   "source": [
    "test = range(6)\n",
    "temp_X = [0] * len(fcolumns)\n",
    "\n",
    "# Set cartype to uberX\n",
    "temp_X[14] = 50\n",
    "#Set city to Boston\n",
    "temp_X[7] = 1\n",
    "#Set income to Middle\n",
    "temp_X[13] = 1\n",
    "#Set time to 17:30\n",
    "temp_X[66] = 1\n",
    "#Set weather to Clear\n",
    "temp_X[len(temp_X) - 11] = 1\n",
    "#Set Day to wednesday\n",
    "temp_X[len(temp_X)-1] = 1\n",
    "\n",
    "# get prediction probabilities\n",
    "prob_nsurge = []\n",
    "for i in test:\n",
    "    temp_X[i] = 1\n",
    "    prob_nsurge.append(rf2.predict_proba(temp_X)[3][0][0])"
   ]
  },
  {
   "cell_type": "code",
   "execution_count": 117,
   "metadata": {
    "collapsed": false
   },
   "outputs": [
    {
     "data": {
      "image/png": "[encoded data removed]",
      "text/plain": [
       "<matplotlib.figure.Figure at 0x839565f8>"
      ]
     },
     "metadata": {},
     "output_type": "display_data"
    }
   ],
   "source": [
    "bar_width = 0.75\n",
    "plt.bar(np.arange(len(test)),prob_nsurge, bar_width)\n",
    "plt.xticks(np.arange(len(test))+bar_width/2, ('uberBLACK', 'uberSUV', 'uberSELECT', 'uberTAXI', 'uberX','uberXL'))\n",
    "plt.ylabel('Probability of a Surge')\n",
    "plt.grid('off')\n",
    "plt.title('Change in Surge Probability by Car Type in Boston')\n",
    "plt.show()"
   ]
  },
  {
   "cell_type": "markdown",
   "metadata": {},
   "source": [
    "The graph above shows an interesting proxy into customer usage of uber's services in Boston. We interpret the graph as the higher the probability on the y axis, the more demand there is for that particular service, which in turn leads to higher surges. Using the predifined variables inputed above, we see that uberX and uberXL are by far the most demanded services in the Boston area. uberBlack seems to be the least demanded service. We find this very interesting because it shows that we are able to use the model to show usage behaivor of each uber service. The graph also shows the widespread application of the model that we created and the incredible amount of analysis that can be done to glean insites into uber's business!"
   ]
  },
  {
   "cell_type": "markdown",
   "metadata": {},
   "source": [
    "##Final Comments\n"
   ]
  },
  {
   "cell_type": "markdown",
   "metadata": {},
   "source": [
    "In conclusion, we were constantly annoyed when calling for an uber and being charged extra for the inevitable surge pricing. We wanted to create a model that was able to give us predictive power on whether it was a good idea to call the uber now, or maybe use a different service that is more cost effective at that particular point in time. First, we collected the data using uber's new API on an AWS machine. Second, we used exploratory data analysis to glean more insights into the data set. Much of the exploratory data analysis proved our intuition correct. For example, the colder the temperature, the less likely people are to walk and the more likely there will be a surge price on ubers. Finally, we trained a Random Forest Classifier on our dataset to have a comprehensive model that can be used to glean further insights into the data and create a very reliable prediction of the surge price (over 96% accuracy!). After creating the model, we wanted to look at Boston specifically. We turned attention to two of the most important features we found in our model: temperature and car type. We proved our intuition with temperature using the model, then showed that it is possible also show consumer behaivor in Boston with respect to service type. \n",
    "\n",
    "**We appear to have a prediction on uber surge pricing!**\n"
   ]
  },
  {
   "cell_type": "markdown",
   "metadata": {},
   "source": [
    "##Further Research"
   ]
  },
  {
   "cell_type": "markdown",
   "metadata": {},
   "source": [
    "Although we have completed a lot of analysis in this project, we realize that there are many more possibilites and analysis that can be done on this data set. We could extend the data collection to more cities or increase the feature selection. We could use the model for more creative ways with expanding input features. Really, the scope of the project can be extended to almost all personal data that can be collected. We see the endless possibilites, and this project really only scratched the surface."
   ]
  }
 ],
 "metadata": {
  "kernelspec": {
   "display_name": "Python 2",
   "language": "python",
   "name": "python2"
  },
  "language_info": {
   "codemirror_mode": {
    "name": "ipython",
    "version": 2
   },
   "file_extension": ".py",
   "mimetype": "text/x-python",
   "name": "python",
   "nbconvert_exporter": "python",
   "pygments_lexer": "ipython2",
   "version": "2.7.10"
  }
 },
 "nbformat": 4,
 "nbformat_minor": 0
}
